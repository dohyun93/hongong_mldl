{
  "nbformat": 4,
  "nbformat_minor": 0,
  "metadata": {
    "colab": {
      "name": "5-2. 교차 검증과 그리드 서치.ipynb",
      "provenance": [],
      "collapsed_sections": [],
      "authorship_tag": "ABX9TyM88W4NjGU6ollTkT7bShOK",
      "include_colab_link": true
    },
    "kernelspec": {
      "name": "python3",
      "display_name": "Python 3"
    },
    "language_info": {
      "name": "python"
    }
  },
  "cells": [
    {
      "cell_type": "markdown",
      "metadata": {
        "id": "view-in-github",
        "colab_type": "text"
      },
      "source": [
        "<a href=\"https://colab.research.google.com/github/dohyun93/hongong_mldl/blob/main/5_2_%EA%B5%90%EC%B0%A8_%EA%B2%80%EC%A6%9D%EA%B3%BC_%EA%B7%B8%EB%A6%AC%EB%93%9C_%EC%84%9C%EC%B9%98.ipynb\" target=\"_parent\"><img src=\"https://colab.research.google.com/assets/colab-badge.svg\" alt=\"Open In Colab\"/></a>"
      ]
    },
    {
      "cell_type": "code",
      "execution_count": null,
      "metadata": {
        "colab": {
          "base_uri": "https://localhost:8080/"
        },
        "id": "2WB3UZ-OljNP",
        "outputId": "11e36cb3-78b8-4c1d-87f0-bd45ae45b580"
      },
      "outputs": [
        {
          "output_type": "stream",
          "name": "stdout",
          "text": [
            "전체 데이터 shape: (6497, 3)\n",
            "훈련, 검증, 테스트세트 shape: (4157, 3) (1040, 3) (1300, 3)\n"
          ]
        }
      ],
      "source": [
        "# 검증 세트\n",
        "# 테스트세트를 사용하지 않으면 과대적합인지 과소적합인지 알기가 어렵다.\n",
        "# 테스트 세트를 사용하지 않고 측정하는 간단한 방법은 훈련세트를 또 나누는것이다. 이 데이터를 검증 세트라고 한다.\n",
        "\n",
        "# 즉 전체 데이터가 100이라고 했을 때, 훈련세트를 60, 검증세트를 20, 테스트세트를 20으로 구성한다.\n",
        "# (데이터가 많다면 적은비율로 해도 데이터 대표성을 띄기 때문에 괜찮다.)\n",
        "\n",
        "import pandas as pd\n",
        "wine = pd.read_csv('https://bit.ly/wine_csv_data')\n",
        "data = wine[['alcohol', 'sugar', 'pH']]\n",
        "target = wine['class'].to_numpy()\n",
        "\n",
        "print(\"전체 데이터 shape:\", data.shape)\n",
        "from sklearn.model_selection import train_test_split\n",
        "train_input, test_input, train_target, test_target = train_test_split(data, target, test_size=0.2, random_state=42)\n",
        "#train_input, train_target 을 훈련세트와 검증 세트로 만든다.\n",
        "sub_input, val_input, sub_target, val_target = train_test_split(train_input, train_target, test_size=0.2, random_state=42)\n",
        "\n",
        "print(\"훈련, 검증, 테스트세트 shape:\", sub_input.shape, val_input.shape, test_input.shape)\n",
        "# sub_input: 훈련세트\n",
        "# val_input: 검증세트"
      ]
    },
    {
      "cell_type": "code",
      "source": [
        " from sklearn.tree import DecisionTreeClassifier\n",
        " dt = DecisionTreeClassifier(random_state=42)\n",
        " dt.fit(sub_input, sub_target)\n",
        " print(\"1. 훈련세트 스코어: \", dt.score(sub_input, sub_target))\n",
        " print(\"2. 검증세트 스코어: \", dt.score(val_input, val_target))"
      ],
      "metadata": {
        "colab": {
          "base_uri": "https://localhost:8080/"
        },
        "id": "RD92Wv98mFPT",
        "outputId": "6ede6bcc-81f3-470f-d575-49e4a68e96bf"
      },
      "execution_count": null,
      "outputs": [
        {
          "output_type": "stream",
          "name": "stdout",
          "text": [
            "1. 훈련세트 스코어:  0.9971133028626413\n",
            "2. 검증세트 스코어:  0.864423076923077\n"
          ]
        }
      ]
    },
    {
      "cell_type": "code",
      "source": [
        "# 검증 세트를 만드느라 훈련세트가 줄었다.\n",
        "# 보통 많은 데이터를 훈련에 사용할 수록 좋은 모델이 만들어지는데 그렇다고 검증세트를 너무 조금 떼어내면 검증점수가 들쭉날쭉하고 불안정할 것이다.\n",
        "# 이럴 때 '교차 검증' (cross-validation) 을 이용하면 안정적인 검증 점수를 얻고 훈련에 더 많은 데이터를 사용할 수 있다."
      ],
      "metadata": {
        "id": "EcsWKKUupBRR"
      },
      "execution_count": null,
      "outputs": []
    }
  ]
}