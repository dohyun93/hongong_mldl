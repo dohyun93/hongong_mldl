{
  "nbformat": 4,
  "nbformat_minor": 0,
  "metadata": {
    "colab": {
      "name": "3-2. 선형 회귀.ipynb",
      "provenance": [],
      "collapsed_sections": [],
      "authorship_tag": "ABX9TyM/YN/1wX0QGiUjJaq8ecmL",
      "include_colab_link": true
    },
    "kernelspec": {
      "name": "python3",
      "display_name": "Python 3"
    },
    "language_info": {
      "name": "python"
    }
  },
  "cells": [
    {
      "cell_type": "markdown",
      "metadata": {
        "id": "view-in-github",
        "colab_type": "text"
      },
      "source": [
        "<a href=\"https://colab.research.google.com/github/dohyun93/hongong_mldl/blob/main/3_2_%EC%84%A0%ED%98%95_%ED%9A%8C%EA%B7%80.ipynb\" target=\"_parent\"><img src=\"https://colab.research.google.com/assets/colab-badge.svg\" alt=\"Open In Colab\"/></a>"
      ]
    },
    {
      "cell_type": "code",
      "execution_count": 2,
      "metadata": {
        "id": "x-ezWX1qL6fy"
      },
      "outputs": [],
      "source": [
        "# 이번 장은 k-최근접 이웃 회귀와 선형 회귀 알고리즘의 차이를 이해하고,\n",
        "# scikit-learn을 활용해 여러가지 선형 회귀 모델을 만들어 본다.\n",
        "\n",
        "# 먼저 농어 길이/무게에 대한 데이터를 준비한다.\n",
        "import numpy as np\n",
        "perch_length = np.array([8.4, 13.7, 15.0, 16.2, 17.4, 18.0, 18.7, 19.0, 19.6, 20.0, 21.0,\n",
        "       21.0, 21.0, 21.3, 22.0, 22.0, 22.0, 22.0, 22.0, 22.5, 22.5, 22.7,\n",
        "       23.0, 23.5, 24.0, 24.0, 24.6, 25.0, 25.6, 26.5, 27.3, 27.5, 27.5,\n",
        "       27.5, 28.0, 28.7, 30.0, 32.8, 34.5, 35.0, 36.5, 36.0, 37.0, 37.0,\n",
        "       39.0, 39.0, 39.0, 40.0, 40.0, 40.0, 40.0, 42.0, 43.0, 43.0, 43.5,\n",
        "       44.0])\n",
        "perch_weight = np.array([5.9, 32.0, 40.0, 51.5, 70.0, 100.0, 78.0, 80.0, 85.0, 85.0, 110.0,\n",
        "       115.0, 125.0, 130.0, 120.0, 120.0, 130.0, 135.0, 110.0, 130.0,\n",
        "       150.0, 145.0, 150.0, 170.0, 225.0, 145.0, 188.0, 180.0, 197.0,\n",
        "       218.0, 300.0, 260.0, 265.0, 250.0, 250.0, 300.0, 320.0, 514.0,\n",
        "       556.0, 840.0, 685.0, 700.0, 700.0, 690.0, 900.0, 650.0, 820.0,\n",
        "       850.0, 900.0, 1015.0, 820.0, 1100.0, 1000.0, 1100.0, 1000.0,\n",
        "       1000.0])"
      ]
    },
    {
      "cell_type": "code",
      "source": [
        "# 훈련 세트와 검증 세트를 나눈다\n",
        "from sklearn.model_selection import train_test_split\n",
        "\n",
        "train_input, test_input, train_target, test_target = train_test_split(perch_length, perch_weight, random_state=42)\n",
        "train_input = train_input.reshape(-1, 1)\n",
        "test_input = test_input.reshape(-1, 1)\n",
        "\n",
        "from sklearn.neighbors import KNeighborsRegressor\n",
        "knr = KNeighborsRegressor(n_neighbors=3)\n",
        "\n",
        "knr.fit(train_input, train_target)\n",
        "\n",
        "print(knr.predict([[50]]))\n",
        "# 실제 무게 1500g 과 꽤 많은 차이가 발생했다."
      ],
      "metadata": {
        "colab": {
          "base_uri": "https://localhost:8080/"
        },
        "id": "QGMSDP_AMZcc",
        "outputId": "38a819d9-f509-4c8f-eb23-9ca1d4d83e12"
      },
      "execution_count": 3,
      "outputs": [
        {
          "output_type": "stream",
          "name": "stdout",
          "text": [
            "[1033.33333333]\n"
          ]
        }
      ]
    },
    {
      "cell_type": "code",
      "source": [
        "# 데이터를 시각화 해보자\n",
        "\n",
        "import matplotlib.pyplot as plt\n",
        "\n",
        "# [[50]]의 이웃들, 인덱스 확인\n",
        "distances, indexes = knr.kneighbors([[50]])\n",
        "\n",
        "plt.scatter(train_input, train_target)\n",
        "plt.scatter(train_input[indexes], train_target[indexes], marker='D')\n",
        "plt.scatter(50, 1033.33333)\n",
        "\n",
        "plt.xlabel('length')\n",
        "plt.ylabel('weight')\n",
        "plt.show()"
      ],
      "metadata": {
        "colab": {
          "base_uri": "https://localhost:8080/",
          "height": 279
        },
        "id": "sWrxH60TNtz4",
        "outputId": "687d501b-bb1c-4e01-d025-fb236e7415ad"
      },
      "execution_count": 5,
      "outputs": [
        {
          "output_type": "display_data",
          "data": {
            "text/plain": [
              "<Figure size 432x288 with 1 Axes>"
            ],
            "image/png": "[encoded data removed]"
          },
          "metadata": {
            "needs_background": "light"
          }
        }
      ]
    },
    {
      "cell_type": "code",
      "source": [
        "# 50이 이 아니라 200 길이를 갖는 농어를 주면 어떻게될까?\n",
        "print(\"length=50의 무게값 k-최근접 이웃 회귀 결과: \", knr.predict([[50]]))\n",
        "print(\"length=200의 무게값 k-최근접 이웃 회귀 결과: \", knr.predict([[200]]))"
      ],
      "metadata": {
        "colab": {
          "base_uri": "https://localhost:8080/"
        },
        "id": "_c0uG5SyPHCA",
        "outputId": "7f3492c0-5fd2-43a0-892d-41e04247b75e"
      },
      "execution_count": 10,
      "outputs": [
        {
          "output_type": "stream",
          "name": "stdout",
          "text": [
            "length=50의 무게값 k-최근접 이웃 회귀 결과:  [1033.33333333]\n",
            "length=200의 무게값 k-최근접 이웃 회귀 결과:  [1033.33333333]\n"
          ]
        }
      ]
    },
    {
      "cell_type": "code",
      "source": [
        "distances, indexes = knr.kneighbors([[200]])\n",
        "\n",
        "plt.scatter(train_input, train_target)\n",
        "plt.scatter(train_input[indexes], train_target[indexes], marker='D')\n",
        "plt.scatter(200, knr.predict([[200]]))\n",
        "\n",
        "plt.xlabel('length')\n",
        "plt.ylabel('weight')\n",
        "plt.show()"
      ],
      "metadata": {
        "colab": {
          "base_uri": "https://localhost:8080/",
          "height": 279
        },
        "id": "nOqSSNFhQXCB",
        "outputId": "fb7cdeb1-1bdf-43f3-9052-26a048e9482f"
      },
      "execution_count": 11,
      "outputs": [
        {
          "output_type": "display_data",
          "data": {
            "text/plain": [
              "<Figure size 432x288 with 1 Axes>"
            ],
            "image/png": "[encoded data removed]"
          },
          "metadata": {
            "needs_background": "light"
          }
        }
      ]
    },
    {
      "cell_type": "code",
      "source": [
        "# 위 시각화 데이터와 같이 예측을 위해 주어진 농어의 길이가 50cm이고 n_neighbors=3 를 감안하면\n",
        "# 길이-무게가 비례적으로 증가하는 추이에도 불구하고 50, 100, 150 등 길이가 늘어나더라도 최근접 이웃 40~45 길이 사이의 농어들 무게를\n",
        "# 평균내기 때문에, 주어진 데이터의 length 보다 큰 값들을 주더라도 제대로 무게를 예측할 수 없다.\n",
        "\n",
        "# 즉, k-최근접 이웃 회귀 모델의 한계는 주어진 데이터의 범위를 벗어나는 데이터를 주었을 때\n",
        "# 데이터의 상관관계에 따라 합리적으로 회귀결과를 얻을 수 없다는 것이다."
      ],
      "metadata": {
        "id": "D5aHy2MtQlOn"
      },
      "execution_count": 12,
      "outputs": []
    },
    {
      "cell_type": "markdown",
      "source": [
        "# 선형 회귀 (Linear regression)\n",
        "\n",
        "> 선형 회귀는 널리 사용되는 대표적인 회귀 알고리즘이다. \n",
        "\n",
        "> 이름에서 알 수 있듯이, 한 특성에 대한 직선의 상관관계를 학습하는 알고리즘이다. \n",
        "\n",
        "> 아래와 같이 사이킷런에서 패키지를 가져올 수 있다.\n",
        "\n",
        "```\n",
        "from sklearn.linear_model import LinearRegression\n",
        "```"
      ],
      "metadata": {
        "id": "YV2mBxV_QBwj"
      }
    },
    {
      "cell_type": "code",
      "source": [
        "from sklearn.linear_model import LinearRegression\n",
        "\n",
        "lr = LinearRegression()\n",
        "lr.fit(train_input, train_target)\n",
        "\n",
        "print(\"length=50 농어의 무게 \\'선형\\'회귀 결과: \", lr.predict([[50]]))\n",
        "print(\"length=200 농어의 무게 \\'선형\\'회귀 결과: \", lr.predict([[200]]))"
      ],
      "metadata": {
        "colab": {
          "base_uri": "https://localhost:8080/"
        },
        "id": "-Cy2QZpNRQQD",
        "outputId": "82182337-8fd6-4dcb-9ec1-e965fdc9cbae"
      },
      "execution_count": 14,
      "outputs": [
        {
          "output_type": "stream",
          "name": "stdout",
          "text": [
            "length=50 농어의 무게 '선형'회귀 결과:  [1241.83860323]\n",
            "length=200 농어의 무게 '선형'회귀 결과:  [7094.41034777]\n"
          ]
        }
      ]
    },
    {
      "cell_type": "markdown",
      "source": [
        "> 앞서 linear regression 은 선형 회귀, 즉 직선의 특성을 학습하는 알고리즘이라고 했다.\n",
        "\n",
        "> 직선은 $y = a \\times x + b$ 처럼 a, b라는 기울기와 절편이 존재한다.\n",
        "\n",
        "> 이 값들은 ```lr``` 객체의 ```coef_``` 와 ```intercept_``` 속성에 저장되어 있다.\n",
        "\n",
        "> 이 ```coef_```, ```intercept_``` 는 머신러닝 알고리즘이 찾은 값이라는 의미로, 모델 파라미터(model parameter)라고 부른다. \n",
        "\n",
        "**머신러닝 알고리즘이 \\'학습\\' 한다고 하는 것은 이러한 모델파라미터의 최적값을 찾는 것과 같다.**\n",
        "\n",
        "**다만 모델기반, 사례기반 학습이 있는데, 앞서 살펴본 k-최근접 이웃은 이러한 모델 파라미터가 없어 '사례기반 학습'에 속하고, 선형회귀 알고리즘과 같이 모델파라미터가 있는 알고리즘은 '모델기반 학습'이라고 부른다.**"
      ],
      "metadata": {
        "id": "a769THGCRx2_"
      }
    },
    {
      "cell_type": "code",
      "source": [
        "# 먼저 모델 파라미터를 출력해보자.\n",
        "print('coef_ : ', lr.coef_)\n",
        "print('intercept_ : ', lr.intercept_)"
      ],
      "metadata": {
        "colab": {
          "base_uri": "https://localhost:8080/"
        },
        "id": "WZlc9GwUTJOL",
        "outputId": "61c7ac5f-6372-4eff-9c00-42f31ebd6e06"
      },
      "execution_count": 17,
      "outputs": [
        {
          "output_type": "stream",
          "name": "stdout",
          "text": [
            "coef_ :  [39.01714496]\n",
            "intercept_ :  -709.0186449535477\n"
          ]
        }
      ]
    },
    {
      "cell_type": "code",
      "source": [
        "# 15~50 길이의 농어 무게를 학습한 모델파미터로 회귀한 직선과\n",
        "# 학습데이터를 시각화 해보자.\n",
        "\n",
        "# 1. 학습 데이터 시각화 (산점도)\n",
        "plt.scatter(train_input, train_target)\n",
        "\n",
        "# 2. 15~50길이 농어의 선형회귀 시각화\n",
        "plt.plot([15, 50], [15*lr.coef_ + lr.intercept_, 50*lr.coef_ + lr.intercept_])\n",
        "\n",
        "# 3. 50 길이의 농어 데이터 시각화\n",
        "plt.scatter([[50]], lr.predict([[50]]))\n",
        "\n",
        "plt.xlabel('length')\n",
        "plt.ylabel('weight')\n",
        "plt.show()"
      ],
      "metadata": {
        "colab": {
          "base_uri": "https://localhost:8080/",
          "height": 279
        },
        "id": "UnGMtz37Tdk4",
        "outputId": "455efbfd-d152-40ec-fde7-3385136855bd"
      },
      "execution_count": 21,
      "outputs": [
        {
          "output_type": "display_data",
          "data": {
            "text/plain": [
              "<Figure size 432x288 with 1 Axes>"
            ],
            "image/png": "[encoded data removed]"
          },
          "metadata": {
            "needs_background": "light"
          }
        }
      ]
    },
    {
      "cell_type": "code",
      "source": [
        "# 결정계수 값을 확인해서 회귀 성능을 점검해보자.\n",
        "\n",
        "print(lr.score(train_input, train_target))\n",
        "print(lr.score(test_input, test_target))"
      ],
      "metadata": {
        "colab": {
          "base_uri": "https://localhost:8080/"
        },
        "id": "ig1rFGTEVvs7",
        "outputId": "ffe4e903-4503-4dbe-8298-19a59c0350ee"
      },
      "execution_count": 23,
      "outputs": [
        {
          "output_type": "stream",
          "name": "stdout",
          "text": [
            "0.939846333997604\n",
            "0.8247503123313558\n"
          ]
        }
      ]
    },
    {
      "cell_type": "code",
      "source": [
        "# 훈련세트보다 테스트세트의 성능이 안좋아서 과대적합이라고 볼 수 있을까?\n",
        "# 훈련세트의 성능도 좋지 않으므로 과소적합 되었다고 볼 수 있다.\n",
        "\n",
        "# 이 모델의 또 다른 문제는 위 그래프의 좌하단을 보면 길이가 더 줄경우 무게가 음수가 될 수 있다는 것이다.\n",
        "\n",
        "# 실제 입력된 데이터들을 보면 length가 0에 가까워질 수록 곡선형태를 띄는걸 볼 수 있다.\n",
        "# 즉, 우리는 직선이 아닌 곡선을 학습하는 알고리즘을 적용할 필요가 있다."
      ],
      "metadata": {
        "id": "FFy87sNLWFg7"
      },
      "execution_count": null,
      "outputs": []
    },
    {
      "cell_type": "markdown",
      "source": [
        "# 다항 회귀 (polynomial regression)\n",
        "\n",
        "> $weight = a \\times length + b$ 가 '길이'와 '무게'에 대한 직선의 모델 파라미터를 학습 했다\n",
        "\n",
        "> 그러나 그래프 좌하단과 같이 직선의 모델은 실제 데이터의 무게와 다른 양상을 보인다.\n",
        "\n",
        "> $weight = a \\times length^2 + b \\times length + c$ 로 곡선의 모델 파라미터를 학습해보자.\n",
        "\n",
        "```2차 방정식이라고해서 비선형 회귀가 아니다. 길이의 제곱이나 길이나 둘다 '길이' 특성이므로 위 2차 방정식도 결국 무게와 길이의 '선형 관계'라고 표현할 수 있다.```"
      ],
      "metadata": {
        "id": "akJRqGrpWj83"
      }
    },
    {
      "cell_type": "code",
      "source": [
        "# 길이와 길이 제곱을 훈련세트에 추가해보자.\n",
        "train_poly = np.column_stack((train_input ** 2, train_input))\n",
        "test_poly = np.column_stack((test_input ** 2, test_input))\n",
        "\n",
        "lr = LinearRegression()\n",
        "# target은 column_stack 안해도 괜찮다.\n",
        "# 결국 인풋의 shape만 바뀌고 그에대한 라벨은 동일하니까.\n",
        "lr.fit(train_poly, train_target)\n",
        "\n",
        "print(lr.predict([[50**2, 50]]))"
      ],
      "metadata": {
        "colab": {
          "base_uri": "https://localhost:8080/"
        },
        "id": "pvM2b5tmWjFF",
        "outputId": "b6b86160-6233-46b9-a55b-357f7aa9bc1c"
      },
      "execution_count": 24,
      "outputs": [
        {
          "output_type": "stream",
          "name": "stdout",
          "text": [
            "[1573.98423528]\n"
          ]
        }
      ]
    },
    {
      "cell_type": "code",
      "source": [
        "# 학습된 2차원함수의 모델 파라미터를 확인해보자\n",
        "print(lr.coef_, lr.intercept_)"
      ],
      "metadata": {
        "colab": {
          "base_uri": "https://localhost:8080/"
        },
        "id": "z561kpp3ZKj8",
        "outputId": "52a926f9-aa9f-47ee-cac4-43809419648e"
      },
      "execution_count": 27,
      "outputs": [
        {
          "output_type": "stream",
          "name": "stdout",
          "text": [
            "[  1.01433211 -21.55792498] 116.0502107827827\n"
          ]
        }
      ]
    },
    {
      "cell_type": "code",
      "source": [
        "# 마지막으로 전체 시각화 해보자\n",
        "\n",
        "point = np.arange(15, 50)\n",
        "\n",
        "# 1. 훈련 세트 시각화\n",
        "plt.scatter(train_input, train_target)\n",
        "\n",
        "# 2. point와 학습된 모델파라미터 사용하여 시각화\n",
        "plt.plot(point, 1.014332*point**2 - 21.5579 * point + 116.0502)\n",
        "\n",
        "# 3. 50 cm 농어 무게 by 모델\n",
        "plt.scatter([[50]], lr.predict([[50**2, 50]]), marker='^')\n",
        "\n",
        "plt.xlabel('length')\n",
        "plt.ylabel('weight')\n",
        "\n",
        "plt.show()"
      ],
      "metadata": {
        "colab": {
          "base_uri": "https://localhost:8080/",
          "height": 279
        },
        "id": "t_jgsJogZVL0",
        "outputId": "a0ab6d99-6f3c-485c-816b-46a8b6d78049"
      },
      "execution_count": 29,
      "outputs": [
        {
          "output_type": "display_data",
          "data": {
            "text/plain": [
              "<Figure size 432x288 with 1 Axes>"
            ],
            "image/png": "[encoded data removed]"
          },
          "metadata": {
            "needs_background": "light"
          }
        }
      ]
    },
    {
      "cell_type": "code",
      "source": [
        "# 마지막으로 결정계수 확인해보자!\n",
        "\n",
        "print(lr.score(train_poly, train_target))\n",
        "print(lr.score(test_poly, test_target))"
      ],
      "metadata": {
        "colab": {
          "base_uri": "https://localhost:8080/"
        },
        "id": "GibVfF9AaF4U",
        "outputId": "40073801-56bb-412b-cec5-ff0b1d3d0b3f"
      },
      "execution_count": 30,
      "outputs": [
        {
          "output_type": "stream",
          "name": "stdout",
          "text": [
            "0.9706807451768623\n",
            "0.9775935108325122\n"
          ]
        }
      ]
    },
    {
      "cell_type": "code",
      "source": [
        "# 훈련세트, 테스트세트 모두 성능이 훨씬 좋아졌다.\n",
        "# 그러나 테스트 세트의 성능이 조금 더 좋은 걸 봐서, 아직 과소적합이 조금 보인다.\n",
        "\n",
        "# 조금 더 복잡한 모델을 적용해볼 필요가 있을 것 같다는 생각이 든다."
      ],
      "metadata": {
        "id": "HYopQIPZaQQt"
      },
      "execution_count": 31,
      "outputs": []
    }
  ]
}