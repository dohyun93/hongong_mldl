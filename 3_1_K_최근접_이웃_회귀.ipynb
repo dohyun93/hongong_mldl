{
  "nbformat": 4,
  "nbformat_minor": 0,
  "metadata": {
    "colab": {
      "name": "3-1. K-최근접 이웃 회귀.ipynb",
      "provenance": [],
      "collapsed_sections": [],
      "authorship_tag": "ABX9TyNCxOHRw3v2HY9+zFopwiVS",
      "include_colab_link": true
    },
    "kernelspec": {
      "name": "python3",
      "display_name": "Python 3"
    },
    "language_info": {
      "name": "python"
    }
  },
  "cells": [
    {
      "cell_type": "markdown",
      "metadata": {
        "id": "view-in-github",
        "colab_type": "text"
      },
      "source": [
        "<a href=\"https://colab.research.google.com/github/dohyun93/hongong_mldl/blob/main/3_1_K_%EC%B5%9C%EA%B7%BC%EC%A0%91_%EC%9D%B4%EC%9B%83_%ED%9A%8C%EA%B7%80.ipynb\" target=\"_parent\"><img src=\"https://colab.research.google.com/assets/colab-badge.svg\" alt=\"Open In Colab\"/></a>"
      ]
    },
    {
      "cell_type": "markdown",
      "source": [
        "# 3-1. K-최근접 회귀\n",
        "\n",
        "2장에서는 K-최근접 '분류'를 공부해보았다.\n",
        "\n",
        "> '분류'란 주어진 데이터가 어떤 클래스에 속하는지를 추론하는 것을 말했다.\n",
        "\n",
        "> **'회귀'란 주어진 데이터가 어떤 '값'이라는 결과를 추론하는 것을 말한다.**"
      ],
      "metadata": {
        "id": "upbQAYeJJK9k"
      }
    },
    {
      "cell_type": "code",
      "execution_count": 2,
      "metadata": {
        "colab": {
          "base_uri": "https://localhost:8080/",
          "height": 279
        },
        "id": "VG5DaFBLJHrT",
        "outputId": "6890768c-b755-4467-fa63-47b9586c71f6"
      },
      "outputs": [
        {
          "output_type": "display_data",
          "data": {
            "text/plain": [
              "<Figure size 432x288 with 1 Axes>"
            ],
            "image/png": "[encoded data removed]"
          },
          "metadata": {
            "needs_background": "light"
          }
        }
      ],
      "source": [
        "# 농어 데이터를 갖고 회귀를 해보자\n",
        "import numpy as np\n",
        "perch_length = np.array([8.4, 13.7, 15.0, 16.2, 17.4, 18.0, 18.7, 19.0, 19.6, 20.0, 21.0,\n",
        "       21.0, 21.0, 21.3, 22.0, 22.0, 22.0, 22.0, 22.0, 22.5, 22.5, 22.7,\n",
        "       23.0, 23.5, 24.0, 24.0, 24.6, 25.0, 25.6, 26.5, 27.3, 27.5, 27.5,\n",
        "       27.5, 28.0, 28.7, 30.0, 32.8, 34.5, 35.0, 36.5, 36.0, 37.0, 37.0,\n",
        "       39.0, 39.0, 39.0, 40.0, 40.0, 40.0, 40.0, 42.0, 43.0, 43.0, 43.5,\n",
        "       44.0])\n",
        "perch_weight = np.array([5.9, 32.0, 40.0, 51.5, 70.0, 100.0, 78.0, 80.0, 85.0, 85.0, 110.0,\n",
        "       115.0, 125.0, 130.0, 120.0, 120.0, 130.0, 135.0, 110.0, 130.0,\n",
        "       150.0, 145.0, 150.0, 170.0, 225.0, 145.0, 188.0, 180.0, 197.0,\n",
        "       218.0, 300.0, 260.0, 265.0, 250.0, 250.0, 300.0, 320.0, 514.0,\n",
        "       556.0, 840.0, 685.0, 700.0, 700.0, 690.0, 900.0, 650.0, 820.0,\n",
        "       850.0, 900.0, 1015.0, 820.0, 1100.0, 1000.0, 1100.0, 1000.0,\n",
        "       1000.0])\n",
        "\n",
        "import matplotlib.pyplot as plt\n",
        "\n",
        "plt.scatter(perch_length, perch_weight)\n",
        "plt.xlabel('length')\n",
        "plt.ylabel('weight')\n",
        "plt.show()"
      ]
    },
    {
      "cell_type": "code",
      "source": [
        "# 위 데이터를 나눠보자\n",
        "from sklearn.model_selection import train_test_split\n",
        "\n",
        "train_input, test_input, train_target, test_target = train_test_split(perch_length, perch_weight, random_state=42)\n",
        "\n",
        "print(train_input.shape)"
      ],
      "metadata": {
        "colab": {
          "base_uri": "https://localhost:8080/"
        },
        "id": "gEbRRkW90cv2",
        "outputId": "62dba9b1-507e-4f4d-9766-a87256d93d00"
      },
      "execution_count": 4,
      "outputs": [
        {
          "output_type": "stream",
          "name": "stdout",
          "text": [
            "(42,)\n"
          ]
        }
      ]
    },
    {
      "cell_type": "code",
      "source": [
        "# 1D np 배열을 2D로 reshape.\n",
        "train_input = train_input.reshape(-1, 1)\n",
        "#print(train_input)\n",
        "\n",
        "print(test_input.shape)\n",
        "print(test_input.shape)\n",
        "print(test_target.shape)\n",
        "\n",
        "# 나머지 훈련세트의 타겟과 테스트세트의 인풋,타겟들도 2D로 reshape해준다.\n",
        "train_target = train_target.reshape(-1, 1)\n",
        "test_input = test_input.reshape(-1, 1)\n",
        "test_target = test_target.reshape(-1, 1)\n",
        "\n",
        "print(train_input.shape)\n",
        "print(train_target.shape)\n",
        "print(test_input.shape)\n",
        "print(test_target.shape)"
      ],
      "metadata": {
        "colab": {
          "base_uri": "https://localhost:8080/"
        },
        "id": "Gn_VHPIx2kmT",
        "outputId": "0bc71a18-974e-4613-9f84-2883a33ad79e"
      },
      "execution_count": 14,
      "outputs": [
        {
          "output_type": "stream",
          "name": "stdout",
          "text": [
            "(14, 1)\n",
            "(14, 1)\n",
            "(14, 1)\n",
            "(42, 1)\n",
            "(42, 1)\n",
            "(14, 1)\n",
            "(14, 1)\n"
          ]
        }
      ]
    },
    {
      "cell_type": "markdown",
      "source": [
        "# 결정계수 ($R^2$)\n",
        "\n",
        "> scikit learn 에서 k-최근접이웃 회귀 알고리즘을 구현한 클래스는 KNeighborsRegressor 이다."
      ],
      "metadata": {
        "id": "q8JxhASr3itq"
      }
    },
    {
      "cell_type": "code",
      "source": [
        "from sklearn.neighbors import KNeighborsRegressor\n",
        "\n",
        "knr = KNeighborsRegressor()\n",
        "\n",
        "knr.fit(train_input, train_target)\n",
        "print(knr.score(test_input, test_target))"
      ],
      "metadata": {
        "colab": {
          "base_uri": "https://localhost:8080/"
        },
        "id": "edPBln033zFf",
        "outputId": "dff17e39-f549-46cb-854d-077071f61ea5"
      },
      "execution_count": 13,
      "outputs": [
        {
          "output_type": "stream",
          "name": "stdout",
          "text": [
            "0.992809406101064\n"
          ]
        }
      ]
    },
    {
      "cell_type": "markdown",
      "source": [
        "> 위 knr.score으로 k최근접이웃회귀의 성능을 확인했다.\n",
        "\n",
        "> 최근접이웃분류의 경우 정확하게 샘플을 분류한 개수의 비율을 score함수의 결과로 확인했다.\n",
        "\n",
        "> 최근접이웃회귀의 경우 결정계수의 값으로 score 함수의 리턴값을 결정한다.\n",
        "\n",
        "$R^2 = 1 - \\frac{(타겟-예측)^2의 합}{(타겟-타겟평균)^2의 합}$\n",
        "\n",
        "> **즉, 예측이 타겟에 가까울 수록 분자가 0이 되므로 결정계수값이 1에 가까워진다.**\n",
        "\n",
        "> 반면 예측이 타겟평균에 가까워질 경우 결정계수값이 0에 가까워진다."
      ],
      "metadata": {
        "id": "8Q1cVttY6LAu"
      }
    },
    {
      "cell_type": "markdown",
      "source": [
        "# 타겟과 예측한 값 차이 - mean_absolute_error (MAE)\n",
        "\n",
        "결정계수가 직감적으로 얼마나 좋은지 이해하기 어려우니 타겟과 예측한 값 차이를 구해보자\n",
        "\n",
        "> MAE는 타깃과 예측의 절댓값 오차를 평균하여 반환하는 값이다."
      ],
      "metadata": {
        "id": "rt9297729CB7"
      }
    },
    {
      "cell_type": "code",
      "source": [
        "from sklearn.metrics import mean_absolute_error\n",
        "\n",
        "test_prediction = knr.predict(test_input)\n",
        "\n",
        "mae = mean_absolute_error(test_target, test_prediction)\n",
        "print(mae)"
      ],
      "metadata": {
        "colab": {
          "base_uri": "https://localhost:8080/"
        },
        "id": "qiF0qD3a7dIx",
        "outputId": "ca4b5af1-ceaf-454f-fed1-1807ba193d27"
      },
      "execution_count": 15,
      "outputs": [
        {
          "output_type": "stream",
          "name": "stdout",
          "text": [
            "19.157142857142862\n"
          ]
        }
      ]
    },
    {
      "cell_type": "markdown",
      "source": [
        "> input (길이) 에 대해 prediction (무게) 를 회귀하는 모델의 MAE 메트릭 상 19g 평균오차를 보이는 것을 알 수 있다.\n",
        "\n"
      ],
      "metadata": {
        "id": "vQhGninR9plx"
      }
    },
    {
      "cell_type": "code",
      "source": [
        "# 과대적합과 과소적합\n",
        "\n",
        "# 여태까지 우리는 훈련세트로 학습을 하고, 테스트세트로 검증을 했다.\n",
        "# 만약 훈련세트로 학습한 모델을 훈련세트로 검증하면 어떻게 될까?\n",
        "# -> 만약 훈련세트의 score가 더 높다면: 오버피팅 가능성\n",
        "# 이 경우 훈련세트에만 잘 맞는 모델이라 일반성이 없는 문제로 실제 데이터가 주어졌을 때 성능이 낮다.\n",
        "\n",
        "# -> 만약 테스트세트의 score가 더 높거나\n",
        "#    두 결과모두 너무 낮을 경우 : 언더피팅 가능성.\n",
        "# 이 경우 모델이 너무 단순하여 훈련세트에 적절히 훈련되지 않은 경우.\n",
        "\n",
        "print(\"훈련세트 평가결과: \", knr.score(train_input, train_target))\n",
        "print(\"테스트세트 평가결과: \", knr.score(test_input, test_target))"
      ],
      "metadata": {
        "colab": {
          "base_uri": "https://localhost:8080/"
        },
        "id": "zvRrp6XV-EOP",
        "outputId": "c56976d8-63e5-4be2-9055-e45c1fc742d4"
      },
      "execution_count": 16,
      "outputs": [
        {
          "output_type": "stream",
          "name": "stdout",
          "text": [
            "훈련세트 평가결과:  0.9698823289099254\n",
            "테스트세트 평가결과:  0.992809406101064\n"
          ]
        }
      ]
    },
    {
      "cell_type": "markdown",
      "source": [
        "> 테스트 세트의 결과가 훈련세트의 결과보다 더 높으므로, 이는 언더피팅된 모델이라고 할 수 있다.\n",
        "\n",
        "> 이 경우, 모델이 너무 단순하여 훈련세트를 잘 학습하지 못했다고 볼 수 있다. 즉, 모델을 더 복잡하게 만들면 된다.\n",
        "\n",
        "> K최근접이웃회귀 알고리즘으로 모델을 더 복잡하게 만드는 방법은 이웃의 개수를 줄이는 것이다.\n",
        "\n",
        "> 이웃의 개수를 줄이면 훈련세트의 국지적인 패턴에 민감해지고 복잡한 모델이 만들어지는 반면, 이웃의 개수를 늘리면 훈련세트의 일반적인 패턴을 따를 것이다.\n",
        "\n",
        "> 기본적으로 sklearn.neighbors의 KNeighborsRegressor의 이웃개수는 5이나, 이를 3으로 줄여서 모델을 더 복잡하게 해보자."
      ],
      "metadata": {
        "id": "5wMF6S9n-9BT"
      }
    },
    {
      "cell_type": "code",
      "source": [
        "knr.n_neighbors = 3\n",
        "\n",
        "knr.fit(train_input, train_target)\n",
        "\n",
        "print(\"훈련세트 평가결과: \", knr.score(train_input, train_target))\n",
        "print(\"테스트세트 평가결과: \", knr.score(test_input, test_target))"
      ],
      "metadata": {
        "colab": {
          "base_uri": "https://localhost:8080/"
        },
        "id": "zGdt2U2k_iGR",
        "outputId": "9d20abd2-dc4e-4010-d1ce-ad5fcd81bcde"
      },
      "execution_count": 19,
      "outputs": [
        {
          "output_type": "stream",
          "name": "stdout",
          "text": [
            "훈련세트 평가결과:  0.9804899950518966\n",
            "테스트세트 평가결과:  0.9746459963987609\n"
          ]
        }
      ]
    },
    {
      "cell_type": "markdown",
      "source": [
        "> 훈련세트의 결과가 테스트세트의 결과보다 근소하게 더 높아 언더피팅 문제가 해소된 것으로 보인다.\n",
        "\n",
        "> 또한 훈련세트의 결과가 테스트세트의 결과와 차이가 거의 없어 이 모델이 과대적합되지도 않은 것을 알 수 있다.\n",
        "\n",
        "> 일반적인 성능을 내는 k최근접이웃회귀 모델을 개발했다!"
      ],
      "metadata": {
        "id": "ANgK-EX0_3oB"
      }
    }
  ]
}