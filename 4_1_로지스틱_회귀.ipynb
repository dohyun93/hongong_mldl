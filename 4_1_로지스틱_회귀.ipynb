{
  "nbformat": 4,
  "nbformat_minor": 0,
  "metadata": {
    "colab": {
      "name": "4-1. 로지스틱 회귀.ipynb",
      "provenance": [],
      "collapsed_sections": [],
      "authorship_tag": "ABX9TyMC7r1oVdMpA5i53SbYLvQe",
      "include_colab_link": true
    },
    "kernelspec": {
      "name": "python3",
      "display_name": "Python 3"
    },
    "language_info": {
      "name": "python"
    }
  },
  "cells": [
    {
      "cell_type": "markdown",
      "metadata": {
        "id": "view-in-github",
        "colab_type": "text"
      },
      "source": [
        "<a href=\"https://colab.research.google.com/github/dohyun93/hongong_mldl/blob/main/4_1_%EB%A1%9C%EC%A7%80%EC%8A%A4%ED%8B%B1_%ED%9A%8C%EA%B7%80.ipynb\" target=\"_parent\"><img src=\"https://colab.research.google.com/assets/colab-badge.svg\" alt=\"Open In Colab\"/></a>"
      ]
    },
    {
      "cell_type": "markdown",
      "source": [
        "# 로지스틱 회귀\n",
        "\n",
        "1장부터 3장까지는 k-최근접 이웃 분류와 회귀, 그리고 훈련 세트를 활용한 데이터 전처리(특성공학, np의 메서드 들 사용)와 훈련/테스트 세트 나누는 방법을 학습했다.\n",
        "\n",
        "이번 장은 이름만 회귀인 '로지스틱 회귀'를 공부해본다. (실제로는 분류에 속한다.)\n",
        "\n",
        "먼저 학습 데이터로 주어지는 특성은 (길이, 높이, 두께, 대각선 길이, 무게)라고 할 때 다수의 생선들을 클래스로 갖는 훈련 데이터들을 학습하여 특성이 주어졌을 때 어떤 클래스의 데이터라고 분류할 수 있을까?\n",
        "\n",
        "가장 쉬운 방법은 k-최근접이웃 분류와 같이 데이터가 주어졌을 때 n_neighbors 숫자만큼 주변의 데이터를 보고 가장 다수의 클래스로 분류 결과를 예측할 것이다.\n",
        "\n",
        "이에대한 내용을 pandas와 numpy를 사용해서 확인해보자.\n"
      ],
      "metadata": {
        "id": "bXNEQqcmSzNx"
      }
    },
    {
      "cell_type": "code",
      "execution_count": 2,
      "metadata": {
        "id": "z1UGq2ofSwU4",
        "colab": {
          "base_uri": "https://localhost:8080/",
          "height": 215
        },
        "outputId": "7f944c0b-767b-42b8-c4ba-f2d6aa148210"
      },
      "outputs": [
        {
          "output_type": "execute_result",
          "data": {
            "text/plain": [
              "  Species  Weight  Length  Diagonal   Height   Width\n",
              "0   Bream   242.0    25.4      30.0  11.5200  4.0200\n",
              "1   Bream   290.0    26.3      31.2  12.4800  4.3056\n",
              "2   Bream   340.0    26.5      31.1  12.3778  4.6961\n",
              "3   Bream   363.0    29.0      33.5  12.7300  4.4555\n",
              "4   Bream   430.0    29.0      34.0  12.4440  5.1340"
            ],
            "text/html": [
              "\n",
              "  <div id=\"df-e19400b3-3a18-482b-81dd-df2c34702e2f\">\n",
              "    <div class=\"colab-df-container\">\n",
              "      <div>\n",
              "<style scoped>\n",
              "    .dataframe tbody tr th:only-of-type {\n",
              "        vertical-align: middle;\n",
              "    }\n",
              "\n",
              "    .dataframe tbody tr th {\n",
              "        vertical-align: top;\n",
              "    }\n",
              "\n",
              "    .dataframe thead th {\n",
              "        text-align: right;\n",
              "    }\n",
              "</style>\n",
              "<table border=\"1\" class=\"dataframe\">\n",
              "  <thead>\n",
              "    <tr style=\"text-align: right;\">\n",
              "      <th></th>\n",
              "      <th>Species</th>\n",
              "      <th>Weight</th>\n",
              "      <th>Length</th>\n",
              "      <th>Diagonal</th>\n",
              "      <th>Height</th>\n",
              "      <th>Width</th>\n",
              "    </tr>\n",
              "  </thead>\n",
              "  <tbody>\n",
              "    <tr>\n",
              "      <th>0</th>\n",
              "      <td>Bream</td>\n",
              "      <td>242.0</td>\n",
              "      <td>25.4</td>\n",
              "      <td>30.0</td>\n",
              "      <td>11.5200</td>\n",
              "      <td>4.0200</td>\n",
              "    </tr>\n",
              "    <tr>\n",
              "      <th>1</th>\n",
              "      <td>Bream</td>\n",
              "      <td>290.0</td>\n",
              "      <td>26.3</td>\n",
              "      <td>31.2</td>\n",
              "      <td>12.4800</td>\n",
              "      <td>4.3056</td>\n",
              "    </tr>\n",
              "    <tr>\n",
              "      <th>2</th>\n",
              "      <td>Bream</td>\n",
              "      <td>340.0</td>\n",
              "      <td>26.5</td>\n",
              "      <td>31.1</td>\n",
              "      <td>12.3778</td>\n",
              "      <td>4.6961</td>\n",
              "    </tr>\n",
              "    <tr>\n",
              "      <th>3</th>\n",
              "      <td>Bream</td>\n",
              "      <td>363.0</td>\n",
              "      <td>29.0</td>\n",
              "      <td>33.5</td>\n",
              "      <td>12.7300</td>\n",
              "      <td>4.4555</td>\n",
              "    </tr>\n",
              "    <tr>\n",
              "      <th>4</th>\n",
              "      <td>Bream</td>\n",
              "      <td>430.0</td>\n",
              "      <td>29.0</td>\n",
              "      <td>34.0</td>\n",
              "      <td>12.4440</td>\n",
              "      <td>5.1340</td>\n",
              "    </tr>\n",
              "  </tbody>\n",
              "</table>\n",
              "</div>\n",
              "      <button class=\"colab-df-convert\" onclick=\"convertToInteractive('df-e19400b3-3a18-482b-81dd-df2c34702e2f')\"\n",
              "              title=\"Convert this dataframe to an interactive table.\"\n",
              "              style=\"display:none;\">\n",
              "        \n",
              "  <svg xmlns=\"http://www.w3.org/2000/svg\" height=\"24px\"viewBox=\"0 0 24 24\"\n",
              "       width=\"24px\">\n",
              "    <path d=\"M0 0h24v24H0V0z\" fill=\"none\"/>\n",
              "    <path d=\"M18.56 5.44l.94 2.06.94-2.06 2.06-.94-2.06-.94-.94-2.06-.94 2.06-2.06.94zm-11 1L8.5 8.5l.94-2.06 2.06-.94-2.06-.94L8.5 2.5l-.94 2.06-2.06.94zm10 10l.94 2.06.94-2.06 2.06-.94-2.06-.94-.94-2.06-.94 2.06-2.06.94z\"/><path d=\"M17.41 7.96l-1.37-1.37c-.4-.4-.92-.59-1.43-.59-.52 0-1.04.2-1.43.59L10.3 9.45l-7.72 7.72c-.78.78-.78 2.05 0 2.83L4 21.41c.39.39.9.59 1.41.59.51 0 1.02-.2 1.41-.59l7.78-7.78 2.81-2.81c.8-.78.8-2.07 0-2.86zM5.41 20L4 18.59l7.72-7.72 1.47 1.35L5.41 20z\"/>\n",
              "  </svg>\n",
              "      </button>\n",
              "      \n",
              "  <style>\n",
              "    .colab-df-container {\n",
              "      display:flex;\n",
              "      flex-wrap:wrap;\n",
              "      gap: 12px;\n",
              "    }\n",
              "\n",
              "    .colab-df-convert {\n",
              "      background-color: #E8F0FE;\n",
              "      border: none;\n",
              "      border-radius: 50%;\n",
              "      cursor: pointer;\n",
              "      display: none;\n",
              "      fill: #1967D2;\n",
              "      height: 32px;\n",
              "      padding: 0 0 0 0;\n",
              "      width: 32px;\n",
              "    }\n",
              "\n",
              "    .colab-df-convert:hover {\n",
              "      background-color: #E2EBFA;\n",
              "      box-shadow: 0px 1px 2px rgba(60, 64, 67, 0.3), 0px 1px 3px 1px rgba(60, 64, 67, 0.15);\n",
              "      fill: #174EA6;\n",
              "    }\n",
              "\n",
              "    [theme=dark] .colab-df-convert {\n",
              "      background-color: #3B4455;\n",
              "      fill: #D2E3FC;\n",
              "    }\n",
              "\n",
              "    [theme=dark] .colab-df-convert:hover {\n",
              "      background-color: #434B5C;\n",
              "      box-shadow: 0px 1px 3px 1px rgba(0, 0, 0, 0.15);\n",
              "      filter: drop-shadow(0px 1px 2px rgba(0, 0, 0, 0.3));\n",
              "      fill: #FFFFFF;\n",
              "    }\n",
              "  </style>\n",
              "\n",
              "      <script>\n",
              "        const buttonEl =\n",
              "          document.querySelector('#df-e19400b3-3a18-482b-81dd-df2c34702e2f button.colab-df-convert');\n",
              "        buttonEl.style.display =\n",
              "          google.colab.kernel.accessAllowed ? 'block' : 'none';\n",
              "\n",
              "        async function convertToInteractive(key) {\n",
              "          const element = document.querySelector('#df-e19400b3-3a18-482b-81dd-df2c34702e2f');\n",
              "          const dataTable =\n",
              "            await google.colab.kernel.invokeFunction('convertToInteractive',\n",
              "                                                     [key], {});\n",
              "          if (!dataTable) return;\n",
              "\n",
              "          const docLinkHtml = 'Like what you see? Visit the ' +\n",
              "            '<a target=\"_blank\" href=https://colab.research.google.com/notebooks/data_table.ipynb>data table notebook</a>'\n",
              "            + ' to learn more about interactive tables.';\n",
              "          element.innerHTML = '';\n",
              "          dataTable['output_type'] = 'display_data';\n",
              "          await google.colab.output.renderOutput(dataTable, element);\n",
              "          const docLink = document.createElement('div');\n",
              "          docLink.innerHTML = docLinkHtml;\n",
              "          element.appendChild(docLink);\n",
              "        }\n",
              "      </script>\n",
              "    </div>\n",
              "  </div>\n",
              "  "
            ]
          },
          "metadata": {},
          "execution_count": 2
        }
      ],
      "source": [
        "import pandas as pd\n",
        "fish = pd.read_csv('https://bit.ly/fish_csv_data')\n",
        "# 첫 5개 데이터만 볼 수 있다 : head()\n",
        "fish.head()"
      ]
    },
    {
      "cell_type": "code",
      "source": [
        "# 그럼 'Species' 열에서 생선의 고유한 품종들이 어떤게 있는지 확인해보자.\n",
        "# pd.unique() -> 인자로 주어진 데이터에서 중복을 제거한 결과를 리턴한다.\n",
        "\n",
        "print(\"Unique fish classes: \", pd.unique(fish['Species']))"
      ],
      "metadata": {
        "colab": {
          "base_uri": "https://localhost:8080/"
        },
        "id": "jCR8gekppdgC",
        "outputId": "ce630601-a5c7-4f61-86e5-a2eff02b0d3d"
      },
      "execution_count": 5,
      "outputs": [
        {
          "output_type": "stream",
          "name": "stdout",
          "text": [
            "Unique fish classes:  ['Bream' 'Roach' 'Whitefish' 'Parkki' 'Perch' 'Pike' 'Smelt']\n"
          ]
        }
      ]
    },
    {
      "cell_type": "code",
      "source": [
        "# 'Species' 열 외의 나머지 열들을 학습에 사용하는 특성으로 활용해보자.\n",
        "# 데이터프레임에서 리스트로 가져올 열들을 지정한 뒤, to_numpy() 로 넘파이 배열로 변환시킨다.\n",
        "fish_input = fish[['Weight', 'Length', 'Diagonal', 'Height', 'Width']].to_numpy()\n",
        "\n",
        "# 첫 5개의 데이터를 확인해보자.\n",
        "print(\"numpy.array 형태의 특성데이터 (첫 5개)\")\n",
        "print(fish_input[:5])\n",
        "\n",
        "print(\"df형태의 첫 데이터 5개: \")\n",
        "print(fish.head())"
      ],
      "metadata": {
        "colab": {
          "base_uri": "https://localhost:8080/"
        },
        "id": "IL5eTMkEp1DF",
        "outputId": "b45eac24-db2e-4fd4-8654-7db4b797c356"
      },
      "execution_count": 8,
      "outputs": [
        {
          "output_type": "stream",
          "name": "stdout",
          "text": [
            "numpy.array 형태의 특성데이터 (첫 5개)\n",
            "[[242.      25.4     30.      11.52     4.02  ]\n",
            " [290.      26.3     31.2     12.48     4.3056]\n",
            " [340.      26.5     31.1     12.3778   4.6961]\n",
            " [363.      29.      33.5     12.73     4.4555]\n",
            " [430.      29.      34.      12.444    5.134 ]]\n",
            "df형태의 첫 데이터 5개: \n",
            "  Species  Weight  Length  Diagonal   Height   Width\n",
            "0   Bream   242.0    25.4      30.0  11.5200  4.0200\n",
            "1   Bream   290.0    26.3      31.2  12.4800  4.3056\n",
            "2   Bream   340.0    26.5      31.1  12.3778  4.6961\n",
            "3   Bream   363.0    29.0      33.5  12.7300  4.4555\n",
            "4   Bream   430.0    29.0      34.0  12.4440  5.1340\n"
          ]
        }
      ]
    },
    {
      "cell_type": "code",
      "source": [
        "# 비슷한 방식으로 타겟 데이터도 준비해보자.\n",
        "fish_target = fish['Species'].to_numpy()"
      ],
      "metadata": {
        "id": "BmwmSAPiqnRT"
      },
      "execution_count": 9,
      "outputs": []
    },
    {
      "cell_type": "code",
      "source": [
        "# input과 타겟을 준비했으니, 이들을 훈련세트와 테스트세트로 나누어보자.\n",
        "from sklearn.model_selection import train_test_split\n",
        "train_input, test_input, train_target, test_target = train_test_split(fish_input, fish_target, random_state=42)\n",
        "\n",
        "# 길이,무게 같이 특성간 스케일이 다르므로, 훈련 세트를 기준으로 표준화 시키고, 테스트 세트도 표준화 시키자.\n",
        "from sklearn.preprocessing import StandardScaler\n",
        "ss = StandardScaler()\n",
        "\n",
        "ss.fit(train_input)\n",
        "\n",
        "train_scaled = ss.transform(train_input)\n",
        "test_scaled = ss.transform(test_input)"
      ],
      "metadata": {
        "id": "-GlVKmB_qvoI"
      },
      "execution_count": 10,
      "outputs": []
    },
    {
      "cell_type": "code",
      "source": [
        "# ##### K-최근접 이웃 분류기의 예측 확률 ##### #\n",
        "# 2장에서 한 것처럼 KNeighborsClassifier 클래스를 활용해 점수를 확인해보자. (n_neighbors=3)\n",
        "\n",
        "from sklearn.neighbors import KNeighborsClassifier\n",
        "kn = KNeighborsClassifier(n_neighbors=3)\n",
        "\n",
        "kn.fit(train_scaled, train_target)\n",
        "print(\"K-최근접이웃 분류기의 결과(훈련세트): \", kn.score(train_scaled, train_target))\n",
        "print(\"K-최근접이웃 분류기의 결과(테스트세트): \", kn.score(test_scaled, test_target))"
      ],
      "metadata": {
        "colab": {
          "base_uri": "https://localhost:8080/"
        },
        "id": "zw_BiAWIrc1u",
        "outputId": "04a9b957-b089-420d-846a-b8bd7ab60aa0"
      },
      "execution_count": 11,
      "outputs": [
        {
          "output_type": "stream",
          "name": "stdout",
          "text": [
            "K-최근접이웃 분류기의 결과(훈련세트):  0.8907563025210085\n",
            "K-최근접이웃 분류기의 결과(테스트세트):  0.85\n"
          ]
        }
      ]
    },
    {
      "cell_type": "code",
      "source": [
        "# 두 가지 이상의 클래스에 대한 분류 문제는 '다중 분류 (multi-class classification)' 라고 한다.\n",
        "# 다중 분류도 타겟값을 2장처럼 0과 1과 같이 숫자로 바꿔서 학습시킬 수 있지만, 사이킷런에서는 편리하게 문자열 형태의 타겟도 사용가능하다.\n",
        "\n",
        "## 주의 ##\n",
        "# 타깃값을 그대로 sklearn모델에 전달하면 순서가 자동으로 알파벳 순으로 매겨진다.\n",
        "# 따라서 pd.unique(fish['Species']) 로 출력했던 순서와 다르다.\n",
        "\n",
        "print(\"pd.unique로 표기하는 클래스들: \", pd.unique(fish['Species']))\n",
        "print(\"모델에서 파악하는 클래스들: \", kn.classes_)"
      ],
      "metadata": {
        "colab": {
          "base_uri": "https://localhost:8080/"
        },
        "id": "p8Ihw5_f-py6",
        "outputId": "fe451146-9ea9-40b3-c73c-95fdaebb57f3"
      },
      "execution_count": 12,
      "outputs": [
        {
          "output_type": "stream",
          "name": "stdout",
          "text": [
            "pd.unique로 표기하는 클래스들:  ['Bream' 'Roach' 'Whitefish' 'Parkki' 'Perch' 'Pike' 'Smelt']\n",
            "모델에서 파악하는 클래스들:  ['Bream' 'Parkki' 'Perch' 'Pike' 'Roach' 'Smelt' 'Whitefish']\n"
          ]
        }
      ]
    },
    {
      "cell_type": "code",
      "source": [
        "# 학습했던 kn 모델로 첫 5개의 타겟만 예측해보자.\n",
        "print(kn.predict(test_scaled[:5]))"
      ],
      "metadata": {
        "colab": {
          "base_uri": "https://localhost:8080/"
        },
        "id": "182MWgICEMOe",
        "outputId": "5400500e-82a3-4f48-9f77-fd2812957f39"
      },
      "execution_count": 13,
      "outputs": [
        {
          "output_type": "stream",
          "name": "stdout",
          "text": [
            "['Perch' 'Smelt' 'Pike' 'Perch' 'Perch']\n"
          ]
        }
      ]
    },
    {
      "cell_type": "code",
      "source": [
        "# 위 테스트세트의 샘플에 대한 예측은 어떤 확률로 만들어졌을까?\n",
        "# 사이킷런의 분류 모델들은 'predict_proba()' 메서드로 클래스별 확률값을 반환한다.\n",
        "\n",
        "# round() 함수로 확률값을 반올림해 나타내보자. \n",
        "# (default는 소수점 첫째 자리에서 반올림. decimals 매개변수로 표기할 소수점 아래 자리수 지정 가능.)\n",
        "\n",
        "import numpy as np\n",
        "proba = kn.predict_proba(test_scaled[:5])\n",
        "print(\"테스트 세트 상위 5개 샘플에 대한 각 타깃별 분류 확률:\")\n",
        "# 소수점 네 번째 자리까지 표기. 즉 아래코드는 다섯 번째 자리에서 반올림한다.\n",
        "print(np.round(proba, decimals=4))"
      ],
      "metadata": {
        "colab": {
          "base_uri": "https://localhost:8080/"
        },
        "id": "VT6zsGWjEXDk",
        "outputId": "df249f8f-02bc-4950-c1c6-2ad903f7e381"
      },
      "execution_count": 15,
      "outputs": [
        {
          "output_type": "stream",
          "name": "stdout",
          "text": [
            "테스트 세트 상위 5개 샘플에 대한 각 타깃별 분류 확률:\n",
            "[[0.     0.     1.     0.     0.     0.     0.    ]\n",
            " [0.     0.     0.     0.     0.     1.     0.    ]\n",
            " [0.     0.     0.     1.     0.     0.     0.    ]\n",
            " [0.     0.     0.6667 0.     0.3333 0.     0.    ]\n",
            " [0.     0.     0.6667 0.     0.3333 0.     0.    ]]\n"
          ]
        }
      ]
    },
    {
      "cell_type": "code",
      "source": [
        "# 위 테스트 세트의 샘플들에 대한 클래스 분류 예측결과는 모델에서 타겟을 알파벳 순으로 관리하는 것과 동일한 순서다.\n",
        "# 즉 순서는 모델에서 파악하는 클래스들:  ['Bream' 'Parkki' 'Perch' 'Pike' 'Roach' 'Smelt' 'Whitefish'] 와 같다.\n",
        "\n",
        "# 이 모델이 계산한 확률이 가장 가까운 이웃의 비율이 맞는지 확인해보자.\n",
        "# 네 번째 샘플의 최근접 이웃의 클래스를 확인해보자.\n",
        "\n",
        "distances, indexes = kn.kneighbors(test_scaled[3:4])\n",
        "print(train_target[indexes])"
      ],
      "metadata": {
        "colab": {
          "base_uri": "https://localhost:8080/"
        },
        "id": "70_-WzTqFiRS",
        "outputId": "367ccfaa-09ee-46f5-ea3c-19ca4c07d524"
      },
      "execution_count": 16,
      "outputs": [
        {
          "output_type": "stream",
          "name": "stdout",
          "text": [
            "[['Roach' 'Perch' 'Perch']]\n"
          ]
        }
      ]
    },
    {
      "cell_type": "code",
      "source": [
        "# 그러나 3개의 최근접 이웃을 사용하기 때문에, 가능한 확률은 0, 1/3, 2/3, 1이 전부다.\n",
        "# KN분류 모델보다 확률을 표현하는 더 나은 세밀한 방법이 없을까?"
      ],
      "metadata": {
        "id": "ftlqpcrBGMkR"
      },
      "execution_count": 17,
      "outputs": []
    },
    {
      "cell_type": "markdown",
      "source": [
        "# 로지스틱 회귀 (Logistic Regression)\n",
        "\n",
        "> 이름은 회귀 이지만, 분류 모델이다.\n",
        "\n",
        "> 이 알고리즘은 선형 회귀와 동일하게 선형 방정식을 사용한다.\n",
        "\n",
        "> $z = a \\times (Weight) + b \\times (Length) + c \\times (Diagonal) + d \\times (Height) + e \\times (Width) + f$\n",
        "\n",
        "> **a, b, c, d, e 는 가중치, 혹은 계수라고 한다.**\n",
        "\n",
        "> z 값은 어떤 값도 가능하다. 그러나 확률이 되려면 0과 1사이의 값이어야 한다. 이를 어떻게 바꿀까?\n",
        "\n",
        "> 시그모이드 함수(sigmoid function, 또는 로지스틱 함수라고도 함) 를 사용하면 된다.\n",
        "\n",
        "![image.png](data:image/png;base64,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)"
      ],
      "metadata": {
        "id": "4w_TM31C-c5j"
      }
    },
    {
      "cell_type": "code",
      "source": [
        "# 위 시그모이드 함수는 아래처럼 시각화 해볼 수 있다.\n",
        "import numpy as np\n",
        "import matplotlib.pyplot as plt\n",
        "\n",
        "z = np.arange(-5, 5, 0.1)\n",
        "phi = 1 / (1+np.exp(-z))\n",
        "plt.plot(z, phi)\n",
        "plt.xlabel('z')\n",
        "plt.ylabel('phi')\n",
        "plt.show()"
      ],
      "metadata": {
        "colab": {
          "base_uri": "https://localhost:8080/",
          "height": 279
        },
        "id": "KcuJjXF-IMGo",
        "outputId": "729115cb-3349-49d9-b887-ef347ef46c44"
      },
      "execution_count": 18,
      "outputs": [
        {
          "output_type": "display_data",
          "data": {
            "text/plain": [
              "<Figure size 432x288 with 1 Axes>"
            ],
            "image/png": "[encoded data removed]"
          },
          "metadata": {
            "needs_background": "light"
          }
        }
      ]
    },
    {
      "cell_type": "code",
      "source": [
        "# 자 이제 로지스틱 회귀를 해보자.\n",
        "# 먼저 이진 분류를 해보자. (0.5보다 크면 양성클래스, 아니면 음성 클래스로 판단.)\n",
        "# 도미와 빙어 두 클래스에 대한 데이터로 해본다.\n",
        "\n",
        "# Python은 인덱스로 True, False 를 전달하여 특정 인덱스의 값만 추려낼 수 있다.\n",
        "# 이를 '불리언 인덱싱' 이라고 한다.\n",
        "\n",
        "char_arr = np.array(['A', 'B', 'C', 'D', 'E'])\n",
        "filteredArray = char_arr[[True, False, False, True, True]]\n",
        "print(filteredArray)"
      ],
      "metadata": {
        "colab": {
          "base_uri": "https://localhost:8080/"
        },
        "id": "FFCCoKLrMBpG",
        "outputId": "6f761724-3c16-493f-973d-abf9daf0cb72"
      },
      "execution_count": 20,
      "outputs": [
        {
          "output_type": "stream",
          "name": "stdout",
          "text": [
            "['A' 'D' 'E']\n"
          ]
        }
      ]
    },
    {
      "cell_type": "code",
      "source": [
        "# 이렇게 불리언 인덱싱을 활용해서 도미(Bream), 빙어(Smelt) 의 행만 골라내보자.\n",
        "# train_target과 shape이 같고 도미와 빙어만 True로, 나머지는 False인 배열을 만들자.\n",
        "bream_smelt_indexes = (train_target == 'Bream') | (train_target == 'Smelt')\n",
        "\n",
        "train_bream_smelt = train_scaled[bream_smelt_indexes]\n",
        "train_target_bream_smelt = train_target[bream_smelt_indexes]"
      ],
      "metadata": {
        "colab": {
          "base_uri": "https://localhost:8080/"
        },
        "id": "kYaud5jBMDw-",
        "outputId": "2a7588a0-e8dc-4b46-fd27-0650321ef089"
      },
      "execution_count": 23,
      "outputs": [
        {
          "output_type": "stream",
          "name": "stdout",
          "text": [
            "(119,)\n",
            "(119,)\n"
          ]
        }
      ]
    },
    {
      "cell_type": "code",
      "source": [
        "# 로지스틱 회귀는 sklearn.linear_model 에 있다.\n",
        "from sklearn.linear_model import LogisticRegression\n",
        "lr = LogisticRegression()\n",
        "lr.fit(train_bream_smelt, train_target_bream_smelt)\n",
        "\n",
        "print(lr.predict(train_bream_smelt[:5]))"
      ],
      "metadata": {
        "colab": {
          "base_uri": "https://localhost:8080/"
        },
        "id": "m9yA2Gr-NJbZ",
        "outputId": "2b936179-6263-408c-ef35-cc6f0ade77ed"
      },
      "execution_count": 25,
      "outputs": [
        {
          "output_type": "stream",
          "name": "stdout",
          "text": [
            "['Bream' 'Smelt' 'Bream' 'Bream' 'Bream']\n"
          ]
        }
      ]
    },
    {
      "cell_type": "code",
      "source": [
        "# 두 번째 샘플만 제외하고 나머지들은 모두 도미로 분류했다.\n",
        "# lr도 KNeighborsClassifier 처럼 predict_proba() 메서드를 제공하기 때문에 그 결과를 확인해보자.\n",
        "\n",
        "print(lr.predict_proba(train_bream_smelt[:5]))"
      ],
      "metadata": {
        "colab": {
          "base_uri": "https://localhost:8080/"
        },
        "id": "HSqqy_biMyQC",
        "outputId": "e1ae8447-36b5-4d16-822a-4efb7a5ff727"
      },
      "execution_count": 26,
      "outputs": [
        {
          "output_type": "stream",
          "name": "stdout",
          "text": [
            "[[0.99759855 0.00240145]\n",
            " [0.02735183 0.97264817]\n",
            " [0.99486072 0.00513928]\n",
            " [0.98584202 0.01415798]\n",
            " [0.99767269 0.00232731]]\n"
          ]
        }
      ]
    },
    {
      "cell_type": "code",
      "source": [
        "# 샘플마다 2개의 확률이 출력되었다.\n",
        "# 첫 번째 열이 '음성' 클래스에 대한 확률, 두 번째 열이 '양성' 클래스에 대한 확률이다.\n",
        "# 둘 중 어떤 게 양성인지 음성인지 확인해보자.\n",
        "\n",
        "print(lr.classes_)"
      ],
      "metadata": {
        "colab": {
          "base_uri": "https://localhost:8080/"
        },
        "id": "ZFlHHFEVP6vG",
        "outputId": "56e1d2a2-5b87-4f20-cf0b-103a99ee3cf6"
      },
      "execution_count": 27,
      "outputs": [
        {
          "output_type": "stream",
          "name": "stdout",
          "text": [
            "['Bream' 'Smelt']\n"
          ]
        }
      ]
    },
    {
      "cell_type": "code",
      "source": [
        "# 도미가 음성, 빙어가 양성 클래스임을 알 수 있다.\n",
        "\n",
        "# 로지스틱 회귀로 이진분류를 성공적으로 했다.\n",
        "# 선형 회귀처럼 로지스틱 회귀가 학습한 계수들을 확인해보자.\n",
        "\n",
        "print(lr.coef_, lr.intercept_)"
      ],
      "metadata": {
        "colab": {
          "base_uri": "https://localhost:8080/"
        },
        "id": "kSlcdv4qQKzU",
        "outputId": "4af96622-07cb-46be-94c6-cd6b10174947"
      },
      "execution_count": 28,
      "outputs": [
        {
          "output_type": "stream",
          "name": "stdout",
          "text": [
            "[[-0.4037798  -0.57620209 -0.66280298 -1.01290277 -0.73168947]] [-2.16155132]\n"
          ]
        }
      ]
    },
    {
      "cell_type": "code",
      "source": [
        "# 즉 학습된 로지스틱 회귀 모델을 아래 선형 방정식으로 나타낼 수 있다.\n",
        "# z = (-0.4037798 * Weight) + (-0.57620209 * Length) + (-0.66280298 * Diagonal) +\n",
        "#     (-1.01290277 * Height) + (-0.73168947 * Width) -2.16155132\n",
        "\n",
        "# decision_function() (LogisticRegression)\n",
        "# -> z값을 계산해준다.\n",
        "decisions = lr.decision_function(train_bream_smelt[:5])\n",
        "print(\"z values: \", decisions)\n",
        "\n",
        "# 이 z 값을 시그모이드 함수에 통과시키면 확률을 얻을 수 있다.\n",
        "# 파이썬의 scipy 라이브러리에 있는 시그모이드 함수인 expit()를 사용해보자!\n",
        "from scipy.special import expit\n",
        "print(\"sigmoid values of z using expit(decisions): \", expit(decisions))"
      ],
      "metadata": {
        "colab": {
          "base_uri": "https://localhost:8080/"
        },
        "id": "e5a91k11Qdr4",
        "outputId": "e100cd5c-92ec-463b-a668-fd4b17f1027a"
      },
      "execution_count": 31,
      "outputs": [
        {
          "output_type": "stream",
          "name": "stdout",
          "text": [
            "z values:  [-6.02927744  3.57123907 -5.26568906 -4.24321775 -6.0607117 ]\n",
            "sigmoid values of z using expit(decisions):  [0.00240145 0.97264817 0.00513928 0.01415798 0.00232731]\n"
          ]
        }
      ]
    },
    {
      "cell_type": "code",
      "source": [
        "# [26] 셀의 두 번째 열과 sigmoid 결과가 동일하다.\n",
        "# 즉, decisions_function() 는 양성 클래스에 대한 z값을 반환한다.\n",
        "\n",
        "# 여기까지 정리 #\n",
        "# 1. 이진 분류를 위해 2개의 타겟에 대한 생선 샘플들을 골랐고\n",
        "# 2. 이를 사용해 로지스틱회귀 모델을 훈련시켰다.\n",
        "# 3. 이진 분류일 경우 predict_proba() 메서드는 음성/양성 클래스에 대한 확률을 출력\n",
        "# 4. decision_function() 메서드는 양성클래스에 대한 z값을 계산한다.\n",
        "# 5. coef_, intercept_ 속성에는 로지스틱 회귀 모델이 학습한 선형 방정식의 계수가 들어있다.\n",
        "\n",
        "# 이제 이진 분류가 아닌 다중 분류 문제로 넘어가보자."
      ],
      "metadata": {
        "id": "naqIrq6HTpla"
      },
      "execution_count": 32,
      "outputs": []
    },
    {
      "cell_type": "markdown",
      "source": [
        "# 다중분류 by LogisticRegression\n",
        "\n",
        "> LogisticRegression 은 반복적인(iterative) 알고리즘을 사용한다.\n",
        "\n",
        "```max_iter``` 매개변수를 지정할 수 있으며 기본값은 100이다.\n",
        "충분하게 훈련시키기 위해서 사용할 데이터셋에는 1000으로 지정한다.\n",
        "\n",
        "> LogisticRegression 은 Ridge회귀 와 같이 **계수의 제곱을 규제한다. (이를 ```L2 규제```라고 한다.)**\n",
        "\n",
        "릿지 회귀에서는 '```alpha```' 매개변수로 규제의 정도를 조절했다.\n",
        "\n",
        "LogisticRegression에서는 '```C```' 라는 매개변수가 동일 기능을 한다. **```그러나 alpha와는 다르게 작을수록 규제가 더 커진다.```**\n",
        "\n",
        "C의 기본값은 1이나, 여기서는 규제를 완화하기 위해 20으로 늘린다."
      ],
      "metadata": {
        "id": "aty5x39dXhFB"
      }
    },
    {
      "cell_type": "code",
      "source": [
        "lr = LogisticRegression(C=20, max_iter=1000)\n",
        "lr.fit(train_scaled, train_target)\n",
        "\n",
        "print(\"훈련세트의 결정계수 :\", lr.score(train_scaled, train_target))\n",
        "print(\"테스트세트의 결정계수 :\", lr.score(test_scaled, test_target))"
      ],
      "metadata": {
        "colab": {
          "base_uri": "https://localhost:8080/"
        },
        "id": "IGrSvEysaZHp",
        "outputId": "8923bca0-0711-4bdf-80d2-ab8991a8323b"
      },
      "execution_count": 33,
      "outputs": [
        {
          "output_type": "stream",
          "name": "stdout",
          "text": [
            "훈련세트의 결정계수 : 0.9327731092436975\n",
            "테스트세트의 결정계수 : 0.925\n"
          ]
        }
      ]
    },
    {
      "cell_type": "code",
      "source": [
        "# 썩 좋지는 않지만 과대/과소적합되진 않은 것 같다.\n",
        "\n",
        "# 테스트 세트 첫 5개 샘플에 대한 예측을 출력해보자.\n",
        "print(lr.predict(test_scaled[:5]))"
      ],
      "metadata": {
        "colab": {
          "base_uri": "https://localhost:8080/"
        },
        "id": "tNfTKrnlU_g3",
        "outputId": "82f835bf-2143-4cca-c1aa-87b75ecc1105"
      },
      "execution_count": 35,
      "outputs": [
        {
          "output_type": "stream",
          "name": "stdout",
          "text": [
            "['Perch' 'Smelt' 'Pike' 'Roach' 'Perch']\n"
          ]
        }
      ]
    },
    {
      "cell_type": "code",
      "source": [
        "# 이번에는 테스트 세트의 처음 5개 샘플에 대한 예측 확률을 출력해보자.\n",
        "# 소수점 3번째 자리까지만 표기한다.\n",
        "proba = lr.predict_proba(test_scaled[:5])\n",
        "print(np.round(proba, decimals=3))\n",
        "print(lr.classes_)"
      ],
      "metadata": {
        "colab": {
          "base_uri": "https://localhost:8080/"
        },
        "id": "OX8wcZ4QbNM-",
        "outputId": "7511bf17-4001-4fdc-9f5c-b9b5d0b31a22"
      },
      "execution_count": 38,
      "outputs": [
        {
          "output_type": "stream",
          "name": "stdout",
          "text": [
            "[[0.    0.014 0.841 0.    0.136 0.007 0.003]\n",
            " [0.    0.003 0.044 0.    0.007 0.946 0.   ]\n",
            " [0.    0.    0.034 0.935 0.015 0.016 0.   ]\n",
            " [0.011 0.034 0.306 0.007 0.567 0.    0.076]\n",
            " [0.    0.    0.904 0.002 0.089 0.002 0.001]]\n",
            "['Bream' 'Parkki' 'Perch' 'Pike' 'Roach' 'Smelt' 'Whitefish']\n"
          ]
        }
      ]
    },
    {
      "cell_type": "code",
      "source": [
        "# 이진 분류는 샘플마다 2개의 확률을 출력하고, \n",
        "# 다중 분류는 샘플마다 클래스 개수만큼 확률을 출력한다. -> predict_proba\n",
        "\n",
        "# 위 다중분류에 대해 학습한 로지스틱회귀 모델의 선형 방정식의 계수를 확인해보자.\n",
        "print(lr.coef_.shape, lr.intercept_.shape)\n",
        "print(lr.coef_, lr.intercept_)"
      ],
      "metadata": {
        "colab": {
          "base_uri": "https://localhost:8080/"
        },
        "id": "kSxs1HO2bwMV",
        "outputId": "2a4b4fc8-12f7-4907-ec16-2c9349ac83c5"
      },
      "execution_count": 39,
      "outputs": [
        {
          "output_type": "stream",
          "name": "stdout",
          "text": [
            "(7, 5) (7,)\n",
            "[[-1.49002087 -1.02912886  2.59345551  7.70357682 -1.2007011 ]\n",
            " [ 0.19618235 -2.01068181 -3.77976834  6.50491489 -1.99482722]\n",
            " [ 3.56279745  6.34357182 -8.48971143 -5.75757348  3.79307308]\n",
            " [-0.10458098  3.60319431  3.93067812 -3.61736674 -1.75069691]\n",
            " [-1.40061442 -6.07503434  5.25969314 -0.87220069  1.86043659]\n",
            " [-1.38526214  1.49214574  1.39226167 -5.67734118 -4.40097523]\n",
            " [ 0.62149861 -2.32406685 -0.90660867  1.71599038  3.6936908 ]] [-0.09205179 -0.26290885  3.25101327 -0.14742956  2.65498283 -6.78782948\n",
            "  1.38422358]\n"
          ]
        }
      ]
    },
    {
      "cell_type": "code",
      "source": [
        "# 계수들의 shape을 확인해보면 7개 클래스에 대해 5개의 계수(a~e)를 학습한 것을 알 수 있다.\n",
        "# 즉, 다중분류는 '클래스마다' z값을 계산한다.\n",
        "# 이 z1~z7 값 중 가장 큰 값을 갖는 클래스가 예측 클래스가 된다.\n",
        "\n",
        "# 이진 분류에서는 시그모이드 함수를 사용해 z를 확률로 변환시켰다.\n",
        "# 다중 분류에서는 소프트맥스 함수를 사용해 z를 확률로 변환시킨다."
      ],
      "metadata": {
        "id": "k_K-JQMtdvWt"
      },
      "execution_count": 40,
      "outputs": []
    },
    {
      "cell_type": "markdown",
      "source": [
        "z1~z7을 각각 e의 제곱으로하여 모두 더한 값을 e_sum 이라고 하자.\n",
        "\n",
        "z1의 확률로 변환된 값은 e의 z1제곱을 e_sum 으로 나눈 값이다.\n",
        "\n",
        "아래는 그림으로 나타낸 예시 (k: 클래스 개수)\n",
        "\n",
        "![image.png](data:image/png;base64,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)"
      ],
      "metadata": {
        "id": "W-LAOD7deYtE"
      }
    },
    {
      "cell_type": "code",
      "source": [
        "# 이진 분류에서처럼 decision_function() 으로 z1~z7을 구한 뒤 소프트맥스 함수를 사용해서 확률로 바꿔보자.\n",
        "# 테스트 세트의 첫 5개 샘플에 대해 z1~z7 를 구해보자.\n",
        "\n",
        "decision = lr.decision_function(test_scaled[:5])\n",
        "print(np.round(decision, decimals=2))"
      ],
      "metadata": {
        "colab": {
          "base_uri": "https://localhost:8080/"
        },
        "id": "vRysG3HNeYbP",
        "outputId": "bb1357ae-9163-4ce2-e166-3b4d51c9860a"
      },
      "execution_count": 41,
      "outputs": [
        {
          "output_type": "stream",
          "name": "stdout",
          "text": [
            "[[ -6.5    1.03   5.16  -2.73   3.34   0.33  -0.63]\n",
            " [-10.86   1.93   4.77  -2.4    2.98   7.84  -4.26]\n",
            " [ -4.34  -6.23   3.17   6.49   2.36   2.42  -3.87]\n",
            " [ -0.68   0.45   2.65  -1.19   3.26  -5.75   1.26]\n",
            " [ -6.4   -1.99   5.82  -0.11   3.5   -0.11  -0.71]]\n"
          ]
        }
      ]
    },
    {
      "cell_type": "code",
      "source": [
        "# from scipy.special import expit 으로 시그모이드 함수를 가져온 것처럼 소프트맥스도 scipy 로 가져올 수 있다.\n",
        "from scipy.special import softmax\n",
        "\n",
        "# 각 행에 대한 한 샘플의 z값에 대해 열에 대한(axis=1) 소프트맥스 함수 결과를 저장한다.\n",
        "proba = softmax(decision, axis=1)\n",
        "print(np.round(proba, decimals=3))"
      ],
      "metadata": {
        "colab": {
          "base_uri": "https://localhost:8080/"
        },
        "id": "iMNz3x5DeU7n",
        "outputId": "d501ccfc-97ea-4701-91a5-66dabd9d8ae0"
      },
      "execution_count": 43,
      "outputs": [
        {
          "output_type": "stream",
          "name": "stdout",
          "text": [
            "[[0.    0.014 0.841 0.    0.136 0.007 0.003]\n",
            " [0.    0.003 0.044 0.    0.007 0.946 0.   ]\n",
            " [0.    0.    0.034 0.935 0.015 0.016 0.   ]\n",
            " [0.011 0.034 0.306 0.007 0.567 0.    0.076]\n",
            " [0.    0.    0.904 0.002 0.089 0.002 0.001]]\n"
          ]
        }
      ]
    }
  ]
}