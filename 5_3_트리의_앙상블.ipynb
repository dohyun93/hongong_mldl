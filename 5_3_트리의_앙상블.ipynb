{
  "nbformat": 4,
  "nbformat_minor": 0,
  "metadata": {
    "colab": {
      "provenance": [],
      "collapsed_sections": [],
      "authorship_tag": "ABX9TyO2o2IcmwVJECjyaK/6OOCw",
      "include_colab_link": true
    },
    "kernelspec": {
      "name": "python3",
      "display_name": "Python 3"
    },
    "language_info": {
      "name": "python"
    }
  },
  "cells": [
    {
      "cell_type": "markdown",
      "metadata": {
        "id": "view-in-github",
        "colab_type": "text"
      },
      "source": [
        "<a href=\"https://colab.research.google.com/github/dohyun93/hongong_mldl/blob/main/5_3_%ED%8A%B8%EB%A6%AC%EC%9D%98_%EC%95%99%EC%83%81%EB%B8%94.ipynb\" target=\"_parent\"><img src=\"https://colab.research.google.com/assets/colab-badge.svg\" alt=\"Open In Colab\"/></a>"
      ]
    },
    {
      "cell_type": "markdown",
      "source": [
        "# 랜덤 포레스트\n",
        "\n",
        "> 정형 데이터: csv처럼 구조로 되어있는 데이터. (높이, 길이, 무게) : 결정트리 기반의 앙상블 학습알고리즘이 가장 뛰어난 성능을 보인다.\n",
        "\n",
        "> 비정형 데이터: 책의 글, 사진, 음악 : 주로 신경망을 통해 학습한다."
      ],
      "metadata": {
        "id": "DCB7NWhUME0i"
      }
    },
    {
      "cell_type": "code",
      "execution_count": null,
      "metadata": {
        "id": "jElYEHbUL7n3"
      },
      "outputs": [],
      "source": [
        "# Random forest 는 앙상블 학습의 대표 주자 중 하나.\n"
      ]
    }
  ]
}