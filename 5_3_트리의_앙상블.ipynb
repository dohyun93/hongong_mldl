{
  "nbformat": 4,
  "nbformat_minor": 0,
  "metadata": {
    "colab": {
      "provenance": [],
      "collapsed_sections": [],
      "authorship_tag": "ABX9TyM5IDi7sSnrp5TT3Zge+J1u",
      "include_colab_link": true
    },
    "kernelspec": {
      "name": "python3",
      "display_name": "Python 3"
    },
    "language_info": {
      "name": "python"
    }
  },
  "cells": [
    {
      "cell_type": "markdown",
      "metadata": {
        "id": "view-in-github",
        "colab_type": "text"
      },
      "source": [
        "<a href=\"https://colab.research.google.com/github/dohyun93/hongong_mldl/blob/main/5_3_%ED%8A%B8%EB%A6%AC%EC%9D%98_%EC%95%99%EC%83%81%EB%B8%94.ipynb\" target=\"_parent\"><img src=\"https://colab.research.google.com/assets/colab-badge.svg\" alt=\"Open In Colab\"/></a>"
      ]
    },
    {
      "cell_type": "markdown",
      "source": [
        "# 랜덤 포레스트\n",
        "\n",
        "> 정형 데이터: csv처럼 구조로 되어있는 데이터. (높이, 길이, 무게) : 결정트리 기반의 앙상블 학습알고리즘이 가장 뛰어난 성능을 보인다.\n",
        "\n",
        "> 비정형 데이터: 책의 글, 사진, 음악 : 주로 신경망을 통해 학습한다."
      ],
      "metadata": {
        "id": "DCB7NWhUME0i"
      }
    },
    {
      "cell_type": "code",
      "execution_count": 2,
      "metadata": {
        "id": "jElYEHbUL7n3",
        "colab": {
          "base_uri": "https://localhost:8080/"
        },
        "outputId": "0f0ec5f3-5650-4aec-b332-8070f1cae669"
      },
      "outputs": [
        {
          "output_type": "stream",
          "name": "stdout",
          "text": [
            "0.9973541965122431 0.8905151032797809\n"
          ]
        }
      ],
      "source": [
        "# Random forest 는 앙상블 학습의 대표 주자 중 하나.\n",
        "\n",
        "# 1. Random forest classifier : \n",
        "# RandomForestClassifier\n",
        "\n",
        "# 각 노드에서 사용할 특성과 훈련세트에서 랜덤하게 선택한 부트스트랩 샘플을 사용해 학습하기 때문에\n",
        "# 훈련 세트에 과대적합 되지 않고 검증/테스트 세트에서도 안정적인 성능을 얻을 수 있다.\n",
        "# 각 노드에서 사용할 특성의 개수는 특성의 제곱근만큼이며, 랜덤한 특성을 고른다.\n",
        "\n",
        "# 2. Random forest regressor :\n",
        "# 랜덤포레스트분류 모델과다르게 사용하는 특성이 모든 특성을 사용한다는 점이다.\n",
        "# RandomForestRegressor \n",
        "\n",
        "import numpy as np\n",
        "import pandas as pd\n",
        "from sklearn.model_selection import train_test_split\n",
        "wine = pd.read_csv('https://bit.ly/wine_csv_data')\n",
        "# dataframe -> numpy\n",
        "data = wine[['alcohol', 'sugar', 'pH']].to_numpy()\n",
        "target = wine['class'].to_numpy()\n",
        "\n",
        "train_input, test_input, train_target, test_target = train_test_split(data, target, test_size=0.2, random_state=42)\n",
        "\n",
        "# cv 함수를 사용해 교차검증을 해보자.\n",
        "# RandomForestClassifier는 기본적으로 100개의 결정 트리를 사용하므로 n_jobs=-1 로 지정해본다.\n",
        "# 'return_train_score' 매개변수를 True로 지정하여 훈련세트의 점수도 반환하도록.\n",
        "\n",
        "from sklearn.model_selection import cross_validate\n",
        "from sklearn.ensemble import RandomForestClassifier\n",
        "rf = RandomForestClassifier(n_jobs=-1, random_state=42)\n",
        "\n",
        "scores = cross_validate(rf, train_input, train_target, n_jobs=-1, return_train_score=True)\n",
        "print(np.mean(scores['train_score']), np.mean(scores['test_score']))"
      ]
    },
    {
      "cell_type": "code",
      "source": [
        "# 훈련세트에 과대적합 된 것으로 보인다.\n",
        "# RandomForestClassifier는 결정 트리의 앙상블 이기 때문에, DecisionTreeClassifier 가 제공하는\n",
        "# 중요 매개변수를 모두 제공한다.\n",
        "# criterion, max_depth, max_features, min_samples_split, min_impurity_decrease, min_samples_leaf\n",
        "# 또한 결정 트리의 큰 장점중 하나인 '특성 중요도'를 계산한다.\n",
        "\n",
        "# 랜덤 포레스트의 특성 중요도는 각 결정 트리의 특성 중요도를 취합한 것이다.\n",
        "rf.fit(train_input, train_target)\n",
        "print(rf.feature_importances_)"
      ],
      "metadata": {
        "colab": {
          "base_uri": "https://localhost:8080/"
        },
        "id": "qgJYV85t5PA4",
        "outputId": "346ea3f1-08d8-42fd-ea75-11e2e87dadc5"
      },
      "execution_count": 3,
      "outputs": [
        {
          "output_type": "stream",
          "name": "stdout",
          "text": [
            "[0.23167441 0.50039841 0.26792718]\n"
          ]
        }
      ]
    }
  ]
}