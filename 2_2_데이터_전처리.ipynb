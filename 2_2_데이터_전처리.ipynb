{
  "nbformat": 4,
  "nbformat_minor": 0,
  "metadata": {
    "colab": {
      "name": "2-2.데이터 전처리.ipynb",
      "provenance": [],
      "collapsed_sections": [],
      "authorship_tag": "ABX9TyN7m8LDm4lOxLY/gvggz6f3",
      "include_colab_link": true
    },
    "kernelspec": {
      "name": "python3",
      "display_name": "Python 3"
    },
    "language_info": {
      "name": "python"
    }
  },
  "cells": [
    {
      "cell_type": "markdown",
      "metadata": {
        "id": "view-in-github",
        "colab_type": "text"
      },
      "source": [
        "<a href=\"https://colab.research.google.com/github/dohyun93/hongong_mldl/blob/main/2_2_%EB%8D%B0%EC%9D%B4%ED%84%B0_%EC%A0%84%EC%B2%98%EB%A6%AC.ipynb\" target=\"_parent\"><img src=\"https://colab.research.google.com/assets/colab-badge.svg\" alt=\"Open In Colab\"/></a>"
      ]
    },
    {
      "cell_type": "markdown",
      "source": [
        "# 2-2. 데이터 전처리\n",
        "\n",
        "> zip() 함수 대신 np.column_stack(), np.concatenate()"
      ],
      "metadata": {
        "id": "rGm7CkJC-5Nx"
      }
    },
    {
      "cell_type": "code",
      "execution_count": 5,
      "metadata": {
        "colab": {
          "base_uri": "https://localhost:8080/"
        },
        "id": "sXVxaSu97jll",
        "outputId": "d9712332-cb2d-467c-b528-0cd9bca04b6a"
      },
      "outputs": [
        {
          "output_type": "stream",
          "name": "stdout",
          "text": [
            "[[  25.4  242. ]\n",
            " [  26.3  290. ]\n",
            " [  26.5  340. ]\n",
            " [  29.   363. ]\n",
            " [  29.   430. ]\n",
            " [  29.7  450. ]\n",
            " [  29.7  500. ]\n",
            " [  30.   390. ]\n",
            " [  30.   450. ]\n",
            " [  30.7  500. ]\n",
            " [  31.   475. ]\n",
            " [  31.   500. ]\n",
            " [  31.5  500. ]\n",
            " [  32.   340. ]\n",
            " [  32.   600. ]\n",
            " [  32.   600. ]\n",
            " [  33.   700. ]\n",
            " [  33.   700. ]\n",
            " [  33.5  610. ]\n",
            " [  33.5  650. ]\n",
            " [  34.   575. ]\n",
            " [  34.   685. ]\n",
            " [  34.5  620. ]\n",
            " [  35.   680. ]\n",
            " [  35.   700. ]\n",
            " [  35.   725. ]\n",
            " [  35.   720. ]\n",
            " [  36.   714. ]\n",
            " [  36.   850. ]\n",
            " [  37.  1000. ]\n",
            " [  38.5  920. ]\n",
            " [  38.5  955. ]\n",
            " [  39.5  925. ]\n",
            " [  41.   975. ]\n",
            " [  41.   950. ]\n",
            " [   9.8    6.7]\n",
            " [  10.5    7.5]\n",
            " [  10.6    7. ]\n",
            " [  11.     9.7]\n",
            " [  11.2    9.8]\n",
            " [  11.3    8.7]\n",
            " [  11.8   10. ]\n",
            " [  11.8    9.9]\n",
            " [  12.     9.8]\n",
            " [  12.2   12.2]\n",
            " [  12.4   13.4]\n",
            " [  13.    12.2]\n",
            " [  14.3   19.7]\n",
            " [  15.    19.9]]\n",
            "[1. 1. 1. 1. 1. 1. 1. 1. 1. 1. 1. 1. 1. 1. 1. 1. 1. 1. 1. 1. 1. 1. 1. 1.\n",
            " 1. 1. 1. 1. 1. 1. 1. 1. 1. 1. 1. 0. 0. 0. 0. 0. 0. 0. 0. 0. 0. 0. 0. 0.\n",
            " 0.]\n"
          ]
        }
      ],
      "source": [
        "numBream = 35\n",
        "numSmelt = 14\n",
        "fish_length = [25.4, 26.3, 26.5, 29.0, 29.0, 29.7, 29.7, 30.0, 30.0, 30.7, 31.0, 31.0, \n",
        "                31.5, 32.0, 32.0, 32.0, 33.0, 33.0, 33.5, 33.5, 34.0, 34.0, 34.5, 35.0, \n",
        "                35.0, 35.0, 35.0, 36.0, 36.0, 37.0, 38.5, 38.5, 39.5, 41.0, 41.0, 9.8, \n",
        "                10.5, 10.6, 11.0, 11.2, 11.3, 11.8, 11.8, 12.0, 12.2, 12.4, 13.0, 14.3, 15.0]\n",
        "fish_weight = [242.0, 290.0, 340.0, 363.0, 430.0, 450.0, 500.0, 390.0, 450.0, 500.0, 475.0, 500.0, \n",
        "                500.0, 340.0, 600.0, 600.0, 700.0, 700.0, 610.0, 650.0, 575.0, 685.0, 620.0, 680.0, \n",
        "                700.0, 725.0, 720.0, 714.0, 850.0, 1000.0, 920.0, 955.0, 925.0, 975.0, 950.0, 6.7, \n",
        "                7.5, 7.0, 9.7, 9.8, 8.7, 10.0, 9.9, 9.8, 12.2, 13.4, 12.2, 19.7, 19.9]\n",
        "\n",
        "# numpy는 행렬연산에 특화된 파이썬의 라이브러리다.\n",
        "import numpy as np\n",
        "\n",
        "# 여태까지는 zip()을 사용해서 2차원 행렬을 만들었다.\n",
        "# 하지만 실제 문제를 풀때는 이보다 입력의 규모가 매우 커지고, zip을 활용한 방법은 다소 효율이떨어진다.\n",
        "# 따라서 이보다 효율적인 방법인 np 라이브러리의 함수를 써보자.\n",
        "fish_input = [[l, w] for l, w in zip(fish_length, fish_weight)]\n",
        "#print(fish_input)\n",
        "\n",
        "# 참고 (파이썬 리스트를 np 배열로 변환)\n",
        "# np_fish_input = np.array(fish_input)\n",
        "\n",
        "############# 1. np.column_stack() #################\n",
        "# 입력을 '튜플' 형태로 주어야 한다는 점에 유의하자!\n",
        "fish_input = np.column_stack((fish_length, fish_weight))\n",
        "print(fish_input)\n",
        "\n",
        "############# 2. np.concatenate() ##################\n",
        "# 역시 입력을 '튜플' 형태로 주어야 한다는 점에 유의하자!\n",
        "fish_target = np.concatenate((np.ones(numBream), np.zeros(numSmelt)))\n",
        "print(fish_target)"
      ]
    },
    {
      "cell_type": "code",
      "source": [
        "# 이제 모델에 넣을 형태로 데이터를 전처리했다.\n",
        "# 훈련세트와 테스트세트로 이제 나누어보자.\n",
        "\n",
        "# sklearn 을 활용해보자.\n",
        "from sklearn.model_selection import train_test_split\n",
        "\n",
        "# random_state: seed값.\n",
        "# 기본적으로 train_test_split 함수는 25%를 테스트 세트로 분리한다.\n",
        "train_input, test_input, train_target, test_target = train_test_split(fish_input, fish_target, random_state=42)\n",
        "\n",
        "print(train_input.shape)\n",
        "print(train_target)\n",
        "print(test_input.shape)\n",
        "print(test_target)\n",
        "# 테스트 세트 타겟의 빙어 비율과 전체데이터에서 빙어의 비율\n",
        "print(3/13)  # stratify 매개변수를 사용하기 전: 23.07%\n",
        "print(14/49) # 빙어의 비율 : 28.57% (오차: -5.5%)"
      ],
      "metadata": {
        "colab": {
          "base_uri": "https://localhost:8080/"
        },
        "id": "zJXGNvVR-4DR",
        "outputId": "685f12a6-a7af-400a-f5df-52c169bccca2"
      },
      "execution_count": 11,
      "outputs": [
        {
          "output_type": "stream",
          "name": "stdout",
          "text": [
            "(36, 2)\n",
            "[1. 1. 1. 0. 0. 0. 1. 1. 1. 1. 1. 1. 1. 0. 1. 1. 1. 1. 0. 1. 1. 1. 0. 0.\n",
            " 1. 0. 1. 1. 1. 0. 1. 1. 0. 1. 1. 0.]\n",
            "(13, 2)\n",
            "[1. 0. 0. 0. 1. 1. 1. 1. 1. 1. 1. 1. 1.]\n",
            "0.23076923076923078\n",
            "0.2857142857142857\n"
          ]
        }
      ]
    },
    {
      "cell_type": "markdown",
      "source": [
        "> 위 테스트세트의 타겟을 보면 도미에 대한 데이터 편향성이 일어난 것을 알 수 있다.\n",
        "\n",
        "일부 클래스의 데이터가 적을 때 이런 현상이 발생할 수 있다.\n",
        "\n",
        "훈련세트와 테스트세트의 샘플들의 클래스 비율이 일정하지 않다면 모델이 학습을 올바르게 할 수 없다.\n",
        "\n",
        "이럴 때, `train_test_split()` 의 매개변수 `stratify` 를 사용하면 클래스 비율에 맞게 훈련/테스트 세트를 나눌 수 있다!"
      ],
      "metadata": {
        "id": "Glh_Ueb3BaKG"
      }
    },
    {
      "cell_type": "code",
      "source": [
        "train_input, test_input, train_target, test_target = train_test_split(fish_input, fish_target, stratify=fish_target, random_state=42)\n",
        "print(test_target)\n",
        "# stratify 매개변수를 사용한 후 빙어의 테스트세트 타깃 비율\n",
        "print(4/13) # 30.76%\n",
        "print(14/49)# 28.57% (오차: +1.19%)\n",
        "\n",
        "# 5.5 -> 1.19% 로 실제 전체 데이터 대비 빙어의 비율과\n",
        "# 테스트세트에서 차지하는 빙어의 비율 오차가 꽤 줄어든 것을 알 수 있다."
      ],
      "metadata": {
        "colab": {
          "base_uri": "https://localhost:8080/"
        },
        "id": "TyG2wd7ABZ6m",
        "outputId": "40df8be8-d494-4429-d346-bc1e8f415268"
      },
      "execution_count": 12,
      "outputs": [
        {
          "output_type": "stream",
          "name": "stdout",
          "text": [
            "[0. 0. 1. 0. 1. 0. 1. 1. 1. 1. 1. 1. 1.]\n",
            "0.3076923076923077\n",
            "0.2857142857142857\n"
          ]
        }
      ]
    },
    {
      "cell_type": "code",
      "source": [
        "from sklearn.neighbors import KNeighborsClassifier\n",
        "\n",
        "kn = KNeighborsClassifier()\n",
        "kn.fit(train_input, train_target)\n",
        "kn.score(test_input, test_target)\n",
        "\n",
        "weird_data = np.array([[25, 150]])\n",
        "kn.predict(weird_data)\n",
        "\n",
        "import matplotlib.pyplot as plt\n",
        "plt.scatter(train_input[:,0], train_input[:,1])\n",
        "plt.scatter(test_input[:,0], test_input[:,1])\n",
        "plt.scatter(weird_data[:,0], weird_data[:,1], marker='^')\n",
        "\n",
        "plt.xlabel('length')\n",
        "plt.ylabel('weight')\n",
        "plt.show()"
      ],
      "metadata": {
        "colab": {
          "base_uri": "https://localhost:8080/",
          "height": 279
        },
        "id": "OE-V7lrVBYC7",
        "outputId": "40476d04-80d8-43e9-9e64-f42558d5b18b"
      },
      "execution_count": 22,
      "outputs": [
        {
          "output_type": "display_data",
          "data": {
            "text/plain": [
              "<Figure size 432x288 with 1 Axes>"
            ],
            "image/png": "[encoded data removed]"
          },
          "metadata": {
            "needs_background": "light"
          }
        }
      ]
    },
    {
      "cell_type": "code",
      "source": [
        "# 위 주어진 [25, 150] 데이터는 빙어에 가깝다고 모델이 분류했다.\n",
        "# 그 이유를 알아보기 위해 모델이 이웃이라고 판단한 것들을 다시 표시해보자.\n",
        "\n",
        "nearNeighbors, theirIndexes = kn.kneighbors([[25, 150]])\n",
        "# 주어진 샘플에서 가장 가까운 이웃과 이웃 샘플의 인덱스를 반환해줌.\n",
        "\n",
        "plt.scatter(train_input[:,0], train_input[:,1])\n",
        "plt.scatter(train_input[theirIndexes,0], train_input[theirIndexes,1], marker='D')\n",
        "plt.scatter(weird_data[:,0], weird_data[:,1], marker='^')\n",
        "plt.xlabel('length')\n",
        "plt.ylabel('weight')\n",
        "plt.show()"
      ],
      "metadata": {
        "colab": {
          "base_uri": "https://localhost:8080/",
          "height": 279
        },
        "id": "JOZ9uQM3Wn9T",
        "outputId": "aebd3537-9a94-4e15-8cba-ddbf5094d825"
      },
      "execution_count": 24,
      "outputs": [
        {
          "output_type": "display_data",
          "data": {
            "text/plain": [
              "<Figure size 432x288 with 1 Axes>"
            ],
            "image/png": "[encoded data removed]"
          },
          "metadata": {
            "needs_background": "light"
          }
        }
      ]
    },
    {
      "cell_type": "markdown",
      "source": [
        "위 그림처럼 샘플 데이터 [25, 150]은 육안상 우상단 클래스인 도미에 더 가까우나, 결과는 빙어에 가깝다고 모델이 분류했다.\n",
        "\n",
        "그 이유는 무엇일까?\n",
        "\n",
        "KNeighborsClassifier 모델이 길이와 무게를 갖고 근접한 k개의 이웃과 거리를 조사했을 때, x label의 영향보다 y label의 영향을 더 많이 받았다.\n",
        "\n",
        "즉, x-axis, y-axis의 데이터 스케일이 다르므로 기준이 다른 특성의 산술비교를 했기 때문에 벌어진 오류이다. \n",
        "\n",
        "**이 기준을 ML에서는 '스케일(Scale)'이라고 부른다.**\n",
        "\n",
        "> **스케일이 다른 특성의 데이터는 학습 전 전처리를 거쳐야 한다!**"
      ],
      "metadata": {
        "id": "bANZLneGZU2B"
      }
    },
    {
      "cell_type": "code",
      "source": [
        "# 가장 널리 사용되는 전처리 방법 중 하나는 '표준점수'를 사용하는 것이다.\n",
        "# (standard score, 또는 Z점수라고 부른다.)\n",
        "\n",
        "# 표준점수는 각 특성값이 0에서 표준편차의 몇 배 만큼 떨어져 있는지를 나타낸다.\n",
        "\n",
        "# 표준점수: 데이터가 원점에서 몇 표준편차의 배수만큼 떨어져있는가\n",
        "# 분산: (데이터-평균)의 제곱들의 합의 평균\n",
        "# 표준편차: 분산의 제곱근\n",
        "\n",
        "mean = np.mean(train_input, axis=0) # 평균. axis=0이므로 [len, weight]들의 한 열에 대해 모든 행의 평균을 계산한다.\n",
        "std = np.std(train_input, axis=0) # 표준편차. axis=0이므로 [len, weight]들의 한 열에대해 모든 행의 표준편차를 계산.\n",
        "\n",
        "########### 각 데이터들에서 평균을 빼고 표준편차로 나누어주면 표준점수다. ##############\n",
        "\n",
        "print(mean, std) # 훈련세트의 평균과 표준편차\n",
        "\n",
        "# 표준점수 확인.\n",
        "scaled_train_input = (train_input-mean)/std\n",
        "print(scaled_train_input)"
      ],
      "metadata": {
        "colab": {
          "base_uri": "https://localhost:8080/"
        },
        "id": "BOoMPQ7qZ8k1",
        "outputId": "66c7af2b-96d0-45de-a50a-a405d29b30f9"
      },
      "execution_count": 26,
      "outputs": [
        {
          "output_type": "stream",
          "name": "stdout",
          "text": [
            "[ 27.29722222 454.09722222] [  9.98244253 323.29893931]\n",
            "[[ 0.24070039  0.14198246]\n",
            " [-1.51237757 -1.36683783]\n",
            " [ 0.5712808   0.76060496]\n",
            " [-1.60253587 -1.37766373]\n",
            " [ 1.22242404  1.45655528]\n",
            " [ 0.17057727 -0.07453542]\n",
            " [ 0.87180845  0.80390854]\n",
            " [ 0.87180845  1.22457184]\n",
            " [ 0.37092904  0.06465464]\n",
            " [ 0.77163257  0.82246721]\n",
            " [ 0.97198434  1.68853872]\n",
            " [-1.61255346 -1.3742613 ]\n",
            " [ 0.72154463  0.51315596]\n",
            " [-1.53241275 -1.3742613 ]\n",
            " [ 0.17057727 -0.28177396]\n",
            " [ 0.5712808   0.76060496]\n",
            " [ 0.34087627  0.14198246]\n",
            " [ 1.12224816  1.54934866]\n",
            " [ 0.62136874  0.60594934]\n",
            " [-1.30200822 -1.34363949]\n",
            " [ 0.42101698  0.14198246]\n",
            " [-0.19005591 -0.65604058]\n",
            " [-1.75279969 -1.38384995]\n",
            " [ 0.47110492  0.45129371]\n",
            " [-1.68267658 -1.38137546]\n",
            " [ 0.62136874  0.48222484]\n",
            " [-1.67265899 -1.38292202]\n",
            " [ 0.77163257  0.76060496]\n",
            " [ 0.47110492  0.45129371]\n",
            " [ 0.77163257  0.83793278]\n",
            " [-1.43223687 -1.36683783]\n",
            " [ 0.27075315 -0.01267317]\n",
            " [ 0.47110492 -0.35291555]\n",
            " [-1.2318851  -1.34302087]\n",
            " [ 0.27075315 -0.19825992]\n",
            " [ 1.37268787  1.61121091]]\n"
          ]
        }
      ]
    },
    {
      "cell_type": "code",
      "source": [
        "# 이제 샘플도 전처리하여 시각화 해보자.\n",
        "newSample = ([[25, 150]] - mean) / std\n",
        "plt.scatter(scaled_train_input[:,0], scaled_train_input[:,1])\n",
        "plt.scatter(newSample[:,0], newSample[:,1], marker='^')\n",
        "plt.xlabel('length')\n",
        "plt.ylabel('weight')\n",
        "plt.show()"
      ],
      "metadata": {
        "colab": {
          "base_uri": "https://localhost:8080/",
          "height": 279
        },
        "id": "eJ5CjRzLcIhd",
        "outputId": "9e1c58a8-2fd0-4ffd-f9a7-38a428d0ad81"
      },
      "execution_count": 27,
      "outputs": [
        {
          "output_type": "display_data",
          "data": {
            "text/plain": [
              "<Figure size 432x288 with 1 Axes>"
            ],
            "image/png": "[encoded data removed]"
          },
          "metadata": {
            "needs_background": "light"
          }
        }
      ]
    },
    {
      "cell_type": "code",
      "source": [
        "# 이제 두 특성 스케일이 맞춰진 것을 확인할 수 있다.\n",
        "# 다시 훈련하여 샘플의 분류결과를 확인해보자.\n",
        "\n",
        "kn.fit(scaled_train_input, train_target)\n",
        "\n",
        "# 훈련세트와 동일한 기준으로 테스트 세트도 스케일을 맞춰주는 전처리를 한다.\n",
        "scaled_test_input = (test_input-mean)/std\n",
        "\n",
        "kn.score(scaled_test_input, test_target)"
      ],
      "metadata": {
        "colab": {
          "base_uri": "https://localhost:8080/"
        },
        "id": "xhox8tS7cIbH",
        "outputId": "07d9f554-d8e4-42a3-bbc4-73a7ddef3041"
      },
      "execution_count": 29,
      "outputs": [
        {
          "output_type": "execute_result",
          "data": {
            "text/plain": [
              "1.0"
            ]
          },
          "metadata": {},
          "execution_count": 29
        }
      ]
    },
    {
      "cell_type": "code",
      "source": [
        "# 그럼 과연 샘플의 결과는? (1: 도미)\n",
        "kn.predict(newSample)"
      ],
      "metadata": {
        "colab": {
          "base_uri": "https://localhost:8080/"
        },
        "id": "TB4d_D6pdLAd",
        "outputId": "24336e5e-7c52-483a-f485-c579b45d96f4"
      },
      "execution_count": 30,
      "outputs": [
        {
          "output_type": "execute_result",
          "data": {
            "text/plain": [
              "array([1.])"
            ]
          },
          "metadata": {},
          "execution_count": 30
        }
      ]
    },
    {
      "cell_type": "code",
      "source": [
        "# 마지막으로 최근접 이웃들과 샘플, 훈련 세트를 시각화해보자.\n",
        "nearNeighbors, theirIndexes = kn.kneighbors(newSample)\n",
        "\n",
        "plt.scatter(scaled_train_input[:,0], scaled_train_input[:,1])\n",
        "plt.scatter(newSample[:,0], newSample[:,1], marker='^')\n",
        "#plt.scatter(nearNeighbors[:,0], nearNeighbors[:,1],marker='D')\n",
        "plt.scatter(scaled_train_input[theirIndexes,0], scaled_train_input[theirIndexes,1],marker='D')\n",
        "plt.xlabel('length')\n",
        "plt.ylabel('weight')\n",
        "plt.show()"
      ],
      "metadata": {
        "colab": {
          "base_uri": "https://localhost:8080/",
          "height": 279
        },
        "id": "azeE17-1dSxv",
        "outputId": "1383dff9-16c3-429d-a68a-0aa6ba20d108"
      },
      "execution_count": 34,
      "outputs": [
        {
          "output_type": "display_data",
          "data": {
            "text/plain": [
              "<Figure size 432x288 with 1 Axes>"
            ],
            "image/png": "[encoded data removed]"
          },
          "metadata": {
            "needs_background": "light"
          }
        }
      ]
    }
  ]
}